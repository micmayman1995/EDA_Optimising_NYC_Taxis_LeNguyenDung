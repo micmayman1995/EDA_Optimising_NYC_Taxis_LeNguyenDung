{
 "cells": [
  {
   "cell_type": "markdown",
   "metadata": {
    "id": "ZQl5n2IOuafL"
   },
   "source": [
    "# **New York City Yellow Taxi Data**"
   ]
  },
  {
   "cell_type": "markdown",
   "metadata": {
    "id": "DGQVIB4mEFrZ"
   },
   "source": [
    "## Objective\n",
    "In this case study you will be learning exploratory data analysis (EDA) with the help of a dataset on yellow taxi rides in New York City. This will enable you to understand why EDA is an important step in the process of data science and machine learning."
   ]
  },
  {
   "cell_type": "markdown",
   "metadata": {
    "id": "YJVMenVllLUL"
   },
   "source": [
    "## **Problem Statement**\n",
    "As an analyst at an upcoming taxi operation in NYC, you are tasked to use the 2023 taxi trip data to uncover insights that could help optimise taxi operations. The goal is to analyse patterns in the data that can inform strategic decisions to improve service efficiency, maximise revenue, and enhance passenger experience."
   ]
  },
  {
   "cell_type": "markdown",
   "metadata": {
    "id": "-OVfUMlHFkZD"
   },
   "source": [
    "## Tasks\n",
    "You need to perform the following steps for successfully completing this assignment:\n",
    "1. Data Loading\n",
    "2. Data Cleaning\n",
    "3. Exploratory Analysis: Bivariate and Multivariate\n",
    "4. Creating Visualisations to Support the Analysis\n",
    "5. Deriving Insights and Stating Conclusions"
   ]
  },
  {
   "cell_type": "markdown",
   "metadata": {
    "id": "gTxV-3GJUhWm"
   },
   "source": [
    "---"
   ]
  },
  {
   "cell_type": "markdown",
   "metadata": {
    "id": "ofebI8ITG-Li"
   },
   "source": [
    "**NOTE:** The marks given along with headings and sub-headings are cumulative marks for those particular headings/sub-headings.<br>\n",
    "\n",
    "The actual marks for each task are specified within the tasks themselves.\n",
    "\n",
    "For example, marks given with heading *2* or sub-heading *2.1* are the cumulative marks, for your reference only. <br>\n",
    "\n",
    "The marks you will receive for completing tasks are given with the tasks.\n",
    "\n",
    "Suppose the marks for two tasks are: 3 marks for 2.1.1 and 2 marks for 3.2.2, or\n",
    "* 2.1.1 [3 marks]\n",
    "* 3.2.2 [2 marks]\n",
    "\n",
    "then, you will earn 3 marks for completing task 2.1.1 and 2 marks for completing task 3.2.2.\n"
   ]
  },
  {
   "cell_type": "markdown",
   "metadata": {
    "id": "YdQjht7dUiHt"
   },
   "source": [
    "---"
   ]
  },
  {
   "cell_type": "markdown",
   "metadata": {
    "id": "0eaCZjHIvfuI"
   },
   "source": [
    "## Data Understanding\n",
    "The yellow taxi trip records include fields capturing pick-up and drop-off dates/times, pick-up and drop-off locations, trip distances, itemized fares, rate types, payment types, and driver-reported passenger counts.\n",
    "\n",
    "The data is stored in Parquet format (*.parquet*). The dataset is from 2009 to 2024. However, for this assignment, we will only be using the data from 2023.\n",
    "\n",
    "The data for each month is present in a different parquet file. You will get twelve files for each of the months in 2023.\n",
    "\n",
    "The data was collected and provided to the NYC Taxi and Limousine Commission (TLC) by technology providers like vendors and taxi hailing apps. <br>\n",
    "\n",
    "You can find the link to the TLC trip records page here: https://www.nyc.gov/site/tlc/about/tlc-trip-record-data.page"
   ]
  },
  {
   "cell_type": "markdown",
   "metadata": {
    "id": "LI6qC5IDxZU1"
   },
   "source": [
    "###  Data Description\n",
    "You can find the data description here: [Data Dictionary](https://www.nyc.gov/assets/tlc/downloads/pdf/data_dictionary_trip_records_yellow.pdf)"
   ]
  },
  {
   "cell_type": "markdown",
   "metadata": {
    "id": "FafCzrDuxHg2"
   },
   "source": [
    "**Trip Records**\n",
    "\n",
    "\n",
    "\n",
    "|Field Name       |description |\n",
    "|:----------------|:-----------|\n",
    "| VendorID | A code indicating the TPEP provider that provided the record. <br> 1= Creative Mobile Technologies, LLC; <br> 2= VeriFone Inc. |\n",
    "| tpep_pickup_datetime | The date and time when the meter was engaged.  |\n",
    "| tpep_dropoff_datetime | The date and time when the meter was disengaged.   |\n",
    "| Passenger_count | The number of passengers in the vehicle. <br> This is a driver-entered value. |\n",
    "| Trip_distance | The elapsed trip distance in miles reported by the taximeter. |\n",
    "| PULocationID | TLC Taxi Zone in which the taximeter was engaged |\n",
    "| DOLocationID | TLC Taxi Zone in which the taximeter was disengaged |\n",
    "|RateCodeID |The final rate code in effect at the end of the trip.<br> 1 = Standard rate <br> 2 = JFK <br> 3 = Newark <br>4 = Nassau or Westchester <br>5 = Negotiated fare <br>6 = Group ride |\n",
    "|Store_and_fwd_flag |This flag indicates whether the trip record was held in vehicle memory before sending to the vendor, aka “store and forward,” because the vehicle did not have a connection to the server.  <br>Y= store and forward trip <br>N= not a store and forward trip |\n",
    "|Payment_type| A numeric code signifying how the passenger paid for the trip. <br> 1 = Credit card <br>2 = Cash <br>3 = No charge <br>4 = Dispute <br>5 = Unknown <br>6 = Voided trip |\n",
    "|Fare_amount| The time-and-distance fare calculated by the meter. <br>Extra Miscellaneous extras and surcharges.  Currently, this only includes the 0.50 and 1 USD rush hour and overnight charges. |\n",
    "|MTA_tax |0.50 USD MTA tax that is automatically triggered based on the metered rate in use. |\n",
    "|Improvement_surcharge | 0.30 USD improvement surcharge assessed trips at the flag drop. The improvement surcharge began being levied in 2015. |\n",
    "|Tip_amount |Tip amount – This field is automatically populated for credit card tips. Cash tips are not included. |\n",
    "| Tolls_amount | Total amount of all tolls paid in trip.  |\n",
    "| total_amount | The total amount charged to passengers. Does not include cash tips. |\n",
    "|Congestion_Surcharge |Total amount collected in trip for NYS congestion surcharge. |\n",
    "| Airport_fee | 1.25 USD for pick up only at LaGuardia and John F. Kennedy Airports|\n",
    "\n",
    "Although the amounts of extra charges and taxes applied are specified in the data dictionary, you will see that some cases have different values of these charges in the actual data."
   ]
  },
  {
   "cell_type": "markdown",
   "metadata": {
    "id": "mL-FWYFnVEdE"
   },
   "source": [
    "**Taxi Zones**\n",
    "\n",
    "Each of the trip records contains a field corresponding to the location of the pickup or drop-off of the trip, populated by numbers ranging from 1-263.\n",
    "\n",
    "These numbers correspond to taxi zones, which may be downloaded as a table or map/shapefile and matched to the trip records using a join.\n",
    "\n",
    "This is covered in more detail in later sections."
   ]
  },
  {
   "cell_type": "markdown",
   "metadata": {
    "id": "z66W3s51U0gF"
   },
   "source": [
    "---"
   ]
  },
  {
   "cell_type": "markdown",
   "metadata": {
    "id": "Kw-WRzBfyS7j"
   },
   "source": [
    "## **1** Data Preparation\n",
    "\n",
    "<font color = red>[5 marks]</font> <br>"
   ]
  },
  {
   "cell_type": "markdown",
   "metadata": {
    "id": "nM2X-s6lycvQ"
   },
   "source": [
    "### Import Libraries"
   ]
  },
  {
   "cell_type": "code",
   "execution_count": 1,
   "metadata": {
    "id": "juReqsAzEdW3"
   },
   "outputs": [],
   "source": [
    "# Import warnings\n",
    "\n",
    "import warnings"
   ]
  },
  {
   "cell_type": "code",
   "execution_count": 2,
   "metadata": {
    "id": "3XZjOlJiy1dr"
   },
   "outputs": [],
   "source": [
    "# Import the libraries you will be using for analysis\n",
    "import numpy as np\n",
    "import pandas as pd\n",
    "pd.options.display.float_format = '{:.6f}'.format\n",
    "import matplotlib.pyplot as plt\n",
    "import seaborn as sns\n"
   ]
  },
  {
   "cell_type": "code",
   "execution_count": 3,
   "metadata": {
    "id": "NsH5LNrSgW9q"
   },
   "outputs": [
    {
     "name": "stdout",
     "output_type": "stream",
     "text": [
      "numpy version: 1.26.4\n",
      "pandas version: 2.2.2\n",
      "matplotlib version: 3.10.1\n",
      "seaborn version: 0.13.2\n"
     ]
    }
   ],
   "source": [
    "# Recommended versions\n",
    "# numpy version: 1.26.4\n",
    "# pandas version: 2.2.2\n",
    "# matplotlib version: 3.10.0\n",
    "# seaborn version: 0.13.2\n",
    "\n",
    "# Check versions\n",
    "print(\"numpy version:\", np.__version__)\n",
    "print(\"pandas version:\", pd.__version__)\n",
    "print(\"matplotlib version:\", plt.matplotlib.__version__)\n",
    "print(\"seaborn version:\", sns.__version__)"
   ]
  },
  {
   "cell_type": "markdown",
   "metadata": {
    "id": "NgHgbPIepaYl"
   },
   "source": [
    "### **1.1** Load the dataset\n",
    "<font color = red>[5 marks]</font> <br>"
   ]
  },
  {
   "cell_type": "markdown",
   "metadata": {
    "id": "KrGluF_gpeHs"
   },
   "source": [
    "You will see twelve files, one for each month.\n",
    "\n",
    "To read parquet files with Pandas, you have to follow a similar syntax as that for CSV files.\n",
    "\n",
    "`df = pd.read_parquet('file.parquet')`"
   ]
  },
  {
   "cell_type": "code",
   "execution_count": 4,
   "metadata": {
    "id": "kIpIsuSSzCp9"
   },
   "outputs": [],
   "source": [
    "# # Try loading one file\n",
    "# data_path = ('C:\\\\Users\\\\Admin\\OneDrive\\Mic\\Study\\Master\\\\NYC Taxi\\Data\\\\')\n",
    "# df = pd.read_parquet(data_path + 'yellow_tripdata_2023-01.parquet')\n",
    "# df.info()"
   ]
  },
  {
   "cell_type": "markdown",
   "metadata": {
    "id": "eh-keWIyqcyr"
   },
   "source": [
    "How many rows are there? Do you think handling such a large number of rows is computationally feasible when we have to combine the data for all twelve months into one?\n",
    "\n",
    "To handle this, we need to sample a fraction of data from each of the files. How to go about that? Think of a way to select only some portion of the data from each month's file that accurately represents the trends."
   ]
  },
  {
   "cell_type": "markdown",
   "metadata": {
    "id": "zHx7lh_3QGmj"
   },
   "source": [
    "#### Sampling the Data\n",
    "> One way is to take a small percentage of entries for pickup in every hour of a date. So, for all the days in a month, we can iterate through the hours and select 5% values randomly from those. Use `tpep_pickup_datetime` for this. Separate date and hour from the datetime values and then for each date, select some fraction of trips for each of the 24 hours.\n",
    "\n",
    "To sample data, you can use the `sample()` method. Follow this syntax:\n",
    "\n",
    "```Python\n",
    "# sampled_data is an empty DF to keep appending sampled data of each hour\n",
    "# hour_data is the DF of entries for an hour 'X' on a date 'Y'\n",
    "\n",
    "sample = hour_data.sample(frac = 0.05, random_state = 42)\n",
    "# sample 0.05 of the hour_data\n",
    "# random_state is just a seed for sampling, you can define it yourself\n",
    "\n",
    "sampled_data = pd.concat([sampled_data, sample]) # adding data for this hour to the DF\n",
    "```\n",
    "\n",
    "This *sampled_data* will contain 5% values selected at random from each hour.\n",
    "\n",
    "Note that the code given above is only the part that will be used for sampling and not the complete code required for sampling and combining the data files.\n",
    "\n",
    "Keep in mind that you sample by date AND hour, not just hour. (Why?)"
   ]
  },
  {
   "cell_type": "markdown",
   "metadata": {
    "id": "3zog80nsqvKp"
   },
   "source": [
    "---"
   ]
  },
  {
   "cell_type": "markdown",
   "metadata": {
    "id": "Fp24-wpQrlC5"
   },
   "source": [
    "**1.1.1** <font color = red>[5 marks]</font> <br>\n",
    "Figure out how to sample and combine the files."
   ]
  },
  {
   "cell_type": "markdown",
   "metadata": {
    "id": "vRGOnciGOvq0"
   },
   "source": [
    "**Note:** It is not mandatory to use the method specified above. While sampling, you only need to make sure that your sampled data represents the overall data of all the months accurately."
   ]
  },
  {
   "cell_type": "code",
   "execution_count": 5,
   "metadata": {
    "id": "3cpuzPFvP2iC"
   },
   "outputs": [],
   "source": [
    "# # Sample the data\n",
    "# # It is recommmended to not load all the files at once to avoid memory overload\n",
    "# def get_sample(df, base_col, frac=0.05, include_groups=True):\n",
    "#     sampled_df = df.groupby(base_col, group_keys=False).apply(lambda x: x.sample(frac=frac), include_groups=include_groups)\n",
    "#     return sampled_df\n",
    "\n",
    "\n",
    "# sample = df.copy()\n",
    "# print(f'Original number of rows = {sample.shape[0]}')\n",
    "\n",
    "# # Sample 5% of the original data using pickup date and hour as bases to keep the distribution\n",
    "# sample['pickup_date_hour'] = sample['tpep_pickup_datetime'].dt.date.astype(str) + ' ' + sample['tpep_pickup_datetime'].dt.hour.astype(str)\n",
    "\n",
    "# before_dist = sample.groupby(['pickup_date_hour']).size().reset_index(name='count_before')\n",
    "# before_dist['proportion_before'] = before_dist['count_before'] / before_dist['count_before'].sum() # For comparison purposes\n",
    "\n",
    "# sample = get_sample(sample, 'pickup_date_hour', 0.05, include_groups=True)\n",
    "\n",
    "# after_dist = sample.groupby(['pickup_date_hour']).size().reset_index(name='count_after')\n",
    "# after_dist['proportion_after'] = after_dist['count_after'] / after_dist['count_after'].sum() # For comparison purposes\n",
    "\n",
    "# comparison_dist = before_dist.merge(after_dist, how='outer', on='pickup_date_hour') # Create another dataframe to compare the before vs after distribution\n",
    "# comparison_dist['count_after'] = comparison_dist['count_after'].fillna(0).astype(int)\n",
    "# comparison_dist['proportion_after'] = comparison_dist['proportion_after'].fillna(0)\n",
    "# comparison_dist['abs_proportion_diff'] = abs(comparison_dist['proportion_before'] - comparison_dist['proportion_after'])\n",
    "# print(f'Sampled number of rows = {sample.shape[0]}')\n",
    "\n",
    "# print(f'Biggest proportion difference = {comparison_dist.abs_proportion_diff.max()}')\n",
    "# print(f'Average proportion difference = {comparison_dist.abs_proportion_diff.mean()}')\n",
    "\n",
    "# sample.head()"
   ]
  },
  {
   "cell_type": "code",
   "execution_count": 6,
   "metadata": {
    "id": "h3x5bCWmarTO"
   },
   "outputs": [],
   "source": [
    "# from google.colab import drive\n",
    "# drive.mount('/content/drive')"
   ]
  },
  {
   "cell_type": "code",
   "execution_count": 7,
   "metadata": {
    "id": "t1EXP0PHzPs0"
   },
   "outputs": [],
   "source": [
    "# # Take a small percentage of entries from each hour of every date.\n",
    "# # Iterating through the monthly data:\n",
    "# #   read a month file -> day -> hour: append sampled data -> move to next hour -> move to next day after 24 hours -> move to next month file\n",
    "# # Create a single dataframe for the year combining all the monthly data\n",
    "\n",
    "# # Select the folder having data files\n",
    "# import os\n",
    "\n",
    "# # Select the folder having data files\n",
    "# os.chdir('C:\\\\Users\\\\Admin\\OneDrive\\Mic\\Study\\Master\\\\NYC Taxi\\Data\\\\')\n",
    "\n",
    "# # Create a list of all the twelve files to read\n",
    "# file_list = [x for x in os.listdir() if 'parquet' in x]\n",
    "\n",
    "# # initialise an empty dataframe\n",
    "# concat_df = pd.DataFrame()\n",
    "\n",
    "\n",
    "# # iterate through the list of files and sample one by one:\n",
    "# for file_name in file_list:\n",
    "#     try:\n",
    "#         # Reading the current file\n",
    "#         print(f'Now reading {file_name}')\n",
    "#         df = pd.read_parquet(file_name)\n",
    "#         origin_rows = df.shape[0]\n",
    "\n",
    "#         # Create the column to use as the distribution base\n",
    "#         df['pickup_date_hour'] = df['tpep_pickup_datetime'].dt.date.astype(str) + ' ' + df['tpep_pickup_datetime'].dt.hour.astype(str) \n",
    "#         # Sampling 0.07% of the data to keep the final total entries at ~270,000 rows\n",
    "#         sampled_data = get_sample(df, 'pickup_date_hour', 0.007, include_groups=False)\n",
    "        \n",
    "#         sampled_rows = sampled_data.shape[0]\n",
    "#         print(f'Sampled {sampled_rows} out of {origin_rows} rows')\n",
    "#         # Concatenate the sampled data of all the dates to a single dataframe\n",
    "#         concat_df = pd.concat([concat_df, sampled_data])\n",
    "\n",
    "#     except Exception as e:\n",
    "#         print(f\"Error reading file {file_name}: {e}\")\n",
    "\n",
    "# print('Concatination Completed')\n",
    "# print(f'The concated file has {concat_df.shape[0]} rows')"
   ]
  },
  {
   "cell_type": "markdown",
   "metadata": {
    "id": "Sej6pZkzw2AK"
   },
   "source": [
    "After combining the data files into one DataFrame, convert the new DataFrame to a CSV or parquet file and store it to use directly.\n",
    "\n",
    "Ideally, you can try keeping the total entries to around 250,000 to 300,000."
   ]
  },
  {
   "cell_type": "code",
   "execution_count": 8,
   "metadata": {
    "id": "okaVAsdPxJow"
   },
   "outputs": [],
   "source": [
    "# # Store the df in csv/parquet\n",
    "# concat_df.to_parquet(data_path + 'concat_file\\\\yellow_tripdata_concat.parquet')"
   ]
  },
  {
   "cell_type": "markdown",
   "metadata": {
    "id": "QaOS3H9izZ0N"
   },
   "source": [
    "## **2** Data Cleaning\n",
    "<font color = red>[30 marks]</font> <br>"
   ]
  },
  {
   "cell_type": "markdown",
   "metadata": {
    "id": "5y3PKWqhxRA9"
   },
   "source": [
    "Now we can load the new data directly."
   ]
  },
  {
   "cell_type": "code",
   "execution_count": 9,
   "metadata": {
    "id": "FOuOL0SDxQHd"
   },
   "outputs": [],
   "source": [
    "# Load the new data file\n",
    "df_raw = pd.read_parquet('C:\\\\Users\\\\Admin\\OneDrive\\Mic\\Study\\Master\\\\NYC Taxi\\Data\\\\concat_file\\\\yellow_tripdata_concat.parquet')\n",
    "# df_raw = pd.read_parquet('C:\\\\Users\\\\nguye\\\\OneDrive\\\\Mic\\\\Study\\\\Master\\\\NYC Taxi\\\\Data\\\\concat_file\\\\yellow_tripdata_concat.parquet')\n"
   ]
  },
  {
   "cell_type": "code",
   "execution_count": 10,
   "metadata": {
    "id": "fbzmFKyn1780"
   },
   "outputs": [
    {
     "data": {
      "text/html": [
       "<div>\n",
       "<style scoped>\n",
       "    .dataframe tbody tr th:only-of-type {\n",
       "        vertical-align: middle;\n",
       "    }\n",
       "\n",
       "    .dataframe tbody tr th {\n",
       "        vertical-align: top;\n",
       "    }\n",
       "\n",
       "    .dataframe thead th {\n",
       "        text-align: right;\n",
       "    }\n",
       "</style>\n",
       "<table border=\"1\" class=\"dataframe\">\n",
       "  <thead>\n",
       "    <tr style=\"text-align: right;\">\n",
       "      <th></th>\n",
       "      <th>VendorID</th>\n",
       "      <th>tpep_pickup_datetime</th>\n",
       "      <th>tpep_dropoff_datetime</th>\n",
       "      <th>passenger_count</th>\n",
       "      <th>trip_distance</th>\n",
       "      <th>RatecodeID</th>\n",
       "      <th>store_and_fwd_flag</th>\n",
       "      <th>PULocationID</th>\n",
       "      <th>DOLocationID</th>\n",
       "      <th>payment_type</th>\n",
       "      <th>fare_amount</th>\n",
       "      <th>extra</th>\n",
       "      <th>mta_tax</th>\n",
       "      <th>tip_amount</th>\n",
       "      <th>tolls_amount</th>\n",
       "      <th>improvement_surcharge</th>\n",
       "      <th>total_amount</th>\n",
       "      <th>congestion_surcharge</th>\n",
       "      <th>airport_fee</th>\n",
       "      <th>Airport_fee</th>\n",
       "    </tr>\n",
       "  </thead>\n",
       "  <tbody>\n",
       "    <tr>\n",
       "      <th>4585</th>\n",
       "      <td>1</td>\n",
       "      <td>2023-01-01 00:23:23</td>\n",
       "      <td>2023-01-01 00:45:35</td>\n",
       "      <td>1.000000</td>\n",
       "      <td>5.400000</td>\n",
       "      <td>1.000000</td>\n",
       "      <td>N</td>\n",
       "      <td>239</td>\n",
       "      <td>107</td>\n",
       "      <td>1</td>\n",
       "      <td>25.400000</td>\n",
       "      <td>3.500000</td>\n",
       "      <td>0.500000</td>\n",
       "      <td>7.550000</td>\n",
       "      <td>0.000000</td>\n",
       "      <td>1.000000</td>\n",
       "      <td>37.950000</td>\n",
       "      <td>2.500000</td>\n",
       "      <td>0.000000</td>\n",
       "      <td>NaN</td>\n",
       "    </tr>\n",
       "    <tr>\n",
       "      <th>1197</th>\n",
       "      <td>2</td>\n",
       "      <td>2023-01-01 00:21:57</td>\n",
       "      <td>2023-01-01 00:32:21</td>\n",
       "      <td>1.000000</td>\n",
       "      <td>1.470000</td>\n",
       "      <td>1.000000</td>\n",
       "      <td>N</td>\n",
       "      <td>141</td>\n",
       "      <td>141</td>\n",
       "      <td>2</td>\n",
       "      <td>11.400000</td>\n",
       "      <td>1.000000</td>\n",
       "      <td>0.500000</td>\n",
       "      <td>0.000000</td>\n",
       "      <td>0.000000</td>\n",
       "      <td>1.000000</td>\n",
       "      <td>16.400000</td>\n",
       "      <td>2.500000</td>\n",
       "      <td>0.000000</td>\n",
       "      <td>NaN</td>\n",
       "    </tr>\n",
       "    <tr>\n",
       "      <th>1244</th>\n",
       "      <td>2</td>\n",
       "      <td>2023-01-01 00:55:12</td>\n",
       "      <td>2023-01-02 00:52:12</td>\n",
       "      <td>1.000000</td>\n",
       "      <td>3.430000</td>\n",
       "      <td>1.000000</td>\n",
       "      <td>N</td>\n",
       "      <td>170</td>\n",
       "      <td>239</td>\n",
       "      <td>2</td>\n",
       "      <td>21.200000</td>\n",
       "      <td>1.000000</td>\n",
       "      <td>0.500000</td>\n",
       "      <td>0.000000</td>\n",
       "      <td>0.000000</td>\n",
       "      <td>1.000000</td>\n",
       "      <td>26.200000</td>\n",
       "      <td>2.500000</td>\n",
       "      <td>0.000000</td>\n",
       "      <td>NaN</td>\n",
       "    </tr>\n",
       "    <tr>\n",
       "      <th>2995299</th>\n",
       "      <td>2</td>\n",
       "      <td>2023-01-01 00:54:00</td>\n",
       "      <td>2023-01-01 01:27:00</td>\n",
       "      <td>NaN</td>\n",
       "      <td>0.240000</td>\n",
       "      <td>NaN</td>\n",
       "      <td>None</td>\n",
       "      <td>143</td>\n",
       "      <td>148</td>\n",
       "      <td>0</td>\n",
       "      <td>36.440000</td>\n",
       "      <td>0.000000</td>\n",
       "      <td>0.500000</td>\n",
       "      <td>8.090000</td>\n",
       "      <td>0.000000</td>\n",
       "      <td>1.000000</td>\n",
       "      <td>48.530000</td>\n",
       "      <td>NaN</td>\n",
       "      <td>NaN</td>\n",
       "      <td>NaN</td>\n",
       "    </tr>\n",
       "    <tr>\n",
       "      <th>2338</th>\n",
       "      <td>1</td>\n",
       "      <td>2023-01-01 00:12:09</td>\n",
       "      <td>2023-01-01 00:36:30</td>\n",
       "      <td>1.000000</td>\n",
       "      <td>4.400000</td>\n",
       "      <td>1.000000</td>\n",
       "      <td>N</td>\n",
       "      <td>239</td>\n",
       "      <td>90</td>\n",
       "      <td>1</td>\n",
       "      <td>25.400000</td>\n",
       "      <td>3.500000</td>\n",
       "      <td>0.500000</td>\n",
       "      <td>6.050000</td>\n",
       "      <td>0.000000</td>\n",
       "      <td>1.000000</td>\n",
       "      <td>36.450000</td>\n",
       "      <td>2.500000</td>\n",
       "      <td>0.000000</td>\n",
       "      <td>NaN</td>\n",
       "    </tr>\n",
       "  </tbody>\n",
       "</table>\n",
       "</div>"
      ],
      "text/plain": [
       "         VendorID tpep_pickup_datetime tpep_dropoff_datetime  passenger_count  \\\n",
       "4585            1  2023-01-01 00:23:23   2023-01-01 00:45:35         1.000000   \n",
       "1197            2  2023-01-01 00:21:57   2023-01-01 00:32:21         1.000000   \n",
       "1244            2  2023-01-01 00:55:12   2023-01-02 00:52:12         1.000000   \n",
       "2995299         2  2023-01-01 00:54:00   2023-01-01 01:27:00              NaN   \n",
       "2338            1  2023-01-01 00:12:09   2023-01-01 00:36:30         1.000000   \n",
       "\n",
       "         trip_distance  RatecodeID store_and_fwd_flag  PULocationID  \\\n",
       "4585          5.400000    1.000000                  N           239   \n",
       "1197          1.470000    1.000000                  N           141   \n",
       "1244          3.430000    1.000000                  N           170   \n",
       "2995299       0.240000         NaN               None           143   \n",
       "2338          4.400000    1.000000                  N           239   \n",
       "\n",
       "         DOLocationID  payment_type  fare_amount    extra  mta_tax  \\\n",
       "4585              107             1    25.400000 3.500000 0.500000   \n",
       "1197              141             2    11.400000 1.000000 0.500000   \n",
       "1244              239             2    21.200000 1.000000 0.500000   \n",
       "2995299           148             0    36.440000 0.000000 0.500000   \n",
       "2338               90             1    25.400000 3.500000 0.500000   \n",
       "\n",
       "         tip_amount  tolls_amount  improvement_surcharge  total_amount  \\\n",
       "4585       7.550000      0.000000               1.000000     37.950000   \n",
       "1197       0.000000      0.000000               1.000000     16.400000   \n",
       "1244       0.000000      0.000000               1.000000     26.200000   \n",
       "2995299    8.090000      0.000000               1.000000     48.530000   \n",
       "2338       6.050000      0.000000               1.000000     36.450000   \n",
       "\n",
       "         congestion_surcharge  airport_fee  Airport_fee  \n",
       "4585                 2.500000     0.000000          NaN  \n",
       "1197                 2.500000     0.000000          NaN  \n",
       "1244                 2.500000     0.000000          NaN  \n",
       "2995299                   NaN          NaN          NaN  \n",
       "2338                 2.500000     0.000000          NaN  "
      ]
     },
     "execution_count": 10,
     "metadata": {},
     "output_type": "execute_result"
    }
   ],
   "source": [
    "df_raw.head()"
   ]
  },
  {
   "cell_type": "code",
   "execution_count": 11,
   "metadata": {
    "id": "FH83U4A49ErC"
   },
   "outputs": [
    {
     "name": "stdout",
     "output_type": "stream",
     "text": [
      "<class 'pandas.core.frame.DataFrame'>\n",
      "Index: 268150 entries, 4585 to 3138963\n",
      "Data columns (total 20 columns):\n",
      " #   Column                 Non-Null Count   Dtype         \n",
      "---  ------                 --------------   -----         \n",
      " 0   VendorID               268150 non-null  int64         \n",
      " 1   tpep_pickup_datetime   268150 non-null  datetime64[us]\n",
      " 2   tpep_dropoff_datetime  268150 non-null  datetime64[us]\n",
      " 3   passenger_count        258945 non-null  float64       \n",
      " 4   trip_distance          268150 non-null  float64       \n",
      " 5   RatecodeID             258945 non-null  float64       \n",
      " 6   store_and_fwd_flag     258945 non-null  object        \n",
      " 7   PULocationID           268150 non-null  int64         \n",
      " 8   DOLocationID           268150 non-null  int64         \n",
      " 9   payment_type           268150 non-null  int64         \n",
      " 10  fare_amount            268150 non-null  float64       \n",
      " 11  extra                  268150 non-null  float64       \n",
      " 12  mta_tax                268150 non-null  float64       \n",
      " 13  tip_amount             268150 non-null  float64       \n",
      " 14  tolls_amount           268150 non-null  float64       \n",
      " 15  improvement_surcharge  268150 non-null  float64       \n",
      " 16  total_amount           268150 non-null  float64       \n",
      " 17  congestion_surcharge   258945 non-null  float64       \n",
      " 18  airport_fee            20964 non-null   float64       \n",
      " 19  Airport_fee            237981 non-null  float64       \n",
      "dtypes: datetime64[us](2), float64(13), int64(4), object(1)\n",
      "memory usage: 43.0+ MB\n"
     ]
    }
   ],
   "source": [
    "df_raw.info()"
   ]
  },
  {
   "cell_type": "markdown",
   "metadata": {
    "id": "HZvPSwJx0S3K"
   },
   "source": [
    "#### **2.1** Fixing Columns\n",
    "<font color = red>[10 marks]</font> <br>\n",
    "\n",
    "Fix/drop any columns as you seem necessary in the below sections"
   ]
  },
  {
   "cell_type": "markdown",
   "metadata": {
    "id": "358takCd2FiM"
   },
   "source": [
    "**2.1.1** <font color = red>[2 marks]</font> <br>\n",
    "\n",
    "Fix the index and drop unnecessary columns"
   ]
  },
  {
   "cell_type": "code",
   "execution_count": 12,
   "metadata": {
    "id": "KHHFyZxa2PEM"
   },
   "outputs": [
    {
     "data": {
      "text/html": [
       "<div>\n",
       "<style scoped>\n",
       "    .dataframe tbody tr th:only-of-type {\n",
       "        vertical-align: middle;\n",
       "    }\n",
       "\n",
       "    .dataframe tbody tr th {\n",
       "        vertical-align: top;\n",
       "    }\n",
       "\n",
       "    .dataframe thead th {\n",
       "        text-align: right;\n",
       "    }\n",
       "</style>\n",
       "<table border=\"1\" class=\"dataframe\">\n",
       "  <thead>\n",
       "    <tr style=\"text-align: right;\">\n",
       "      <th></th>\n",
       "      <th>tpep_pickup_datetime</th>\n",
       "      <th>tpep_dropoff_datetime</th>\n",
       "      <th>passenger_count</th>\n",
       "      <th>trip_distance</th>\n",
       "      <th>RatecodeID</th>\n",
       "      <th>PULocationID</th>\n",
       "      <th>DOLocationID</th>\n",
       "      <th>payment_type</th>\n",
       "      <th>fare_amount</th>\n",
       "      <th>extra</th>\n",
       "      <th>tip_amount</th>\n",
       "      <th>congestion_surcharge</th>\n",
       "      <th>airport_fee</th>\n",
       "      <th>Airport_fee</th>\n",
       "    </tr>\n",
       "  </thead>\n",
       "  <tbody>\n",
       "    <tr>\n",
       "      <th>0</th>\n",
       "      <td>2023-01-01 00:23:23</td>\n",
       "      <td>2023-01-01 00:45:35</td>\n",
       "      <td>1.000000</td>\n",
       "      <td>5.400000</td>\n",
       "      <td>1.000000</td>\n",
       "      <td>239</td>\n",
       "      <td>107</td>\n",
       "      <td>1</td>\n",
       "      <td>25.400000</td>\n",
       "      <td>3.500000</td>\n",
       "      <td>7.550000</td>\n",
       "      <td>2.500000</td>\n",
       "      <td>0.000000</td>\n",
       "      <td>NaN</td>\n",
       "    </tr>\n",
       "    <tr>\n",
       "      <th>1</th>\n",
       "      <td>2023-01-01 00:21:57</td>\n",
       "      <td>2023-01-01 00:32:21</td>\n",
       "      <td>1.000000</td>\n",
       "      <td>1.470000</td>\n",
       "      <td>1.000000</td>\n",
       "      <td>141</td>\n",
       "      <td>141</td>\n",
       "      <td>2</td>\n",
       "      <td>11.400000</td>\n",
       "      <td>1.000000</td>\n",
       "      <td>0.000000</td>\n",
       "      <td>2.500000</td>\n",
       "      <td>0.000000</td>\n",
       "      <td>NaN</td>\n",
       "    </tr>\n",
       "    <tr>\n",
       "      <th>2</th>\n",
       "      <td>2023-01-01 00:55:12</td>\n",
       "      <td>2023-01-02 00:52:12</td>\n",
       "      <td>1.000000</td>\n",
       "      <td>3.430000</td>\n",
       "      <td>1.000000</td>\n",
       "      <td>170</td>\n",
       "      <td>239</td>\n",
       "      <td>2</td>\n",
       "      <td>21.200000</td>\n",
       "      <td>1.000000</td>\n",
       "      <td>0.000000</td>\n",
       "      <td>2.500000</td>\n",
       "      <td>0.000000</td>\n",
       "      <td>NaN</td>\n",
       "    </tr>\n",
       "    <tr>\n",
       "      <th>3</th>\n",
       "      <td>2023-01-01 00:54:00</td>\n",
       "      <td>2023-01-01 01:27:00</td>\n",
       "      <td>NaN</td>\n",
       "      <td>0.240000</td>\n",
       "      <td>NaN</td>\n",
       "      <td>143</td>\n",
       "      <td>148</td>\n",
       "      <td>0</td>\n",
       "      <td>36.440000</td>\n",
       "      <td>0.000000</td>\n",
       "      <td>8.090000</td>\n",
       "      <td>NaN</td>\n",
       "      <td>NaN</td>\n",
       "      <td>NaN</td>\n",
       "    </tr>\n",
       "    <tr>\n",
       "      <th>4</th>\n",
       "      <td>2023-01-01 00:12:09</td>\n",
       "      <td>2023-01-01 00:36:30</td>\n",
       "      <td>1.000000</td>\n",
       "      <td>4.400000</td>\n",
       "      <td>1.000000</td>\n",
       "      <td>239</td>\n",
       "      <td>90</td>\n",
       "      <td>1</td>\n",
       "      <td>25.400000</td>\n",
       "      <td>3.500000</td>\n",
       "      <td>6.050000</td>\n",
       "      <td>2.500000</td>\n",
       "      <td>0.000000</td>\n",
       "      <td>NaN</td>\n",
       "    </tr>\n",
       "    <tr>\n",
       "      <th>...</th>\n",
       "      <td>...</td>\n",
       "      <td>...</td>\n",
       "      <td>...</td>\n",
       "      <td>...</td>\n",
       "      <td>...</td>\n",
       "      <td>...</td>\n",
       "      <td>...</td>\n",
       "      <td>...</td>\n",
       "      <td>...</td>\n",
       "      <td>...</td>\n",
       "      <td>...</td>\n",
       "      <td>...</td>\n",
       "      <td>...</td>\n",
       "      <td>...</td>\n",
       "    </tr>\n",
       "    <tr>\n",
       "      <th>268145</th>\n",
       "      <td>2023-12-31 09:49:26</td>\n",
       "      <td>2023-12-31 10:25:41</td>\n",
       "      <td>1.000000</td>\n",
       "      <td>20.900000</td>\n",
       "      <td>99.000000</td>\n",
       "      <td>259</td>\n",
       "      <td>124</td>\n",
       "      <td>1</td>\n",
       "      <td>75.500000</td>\n",
       "      <td>0.000000</td>\n",
       "      <td>0.000000</td>\n",
       "      <td>0.000000</td>\n",
       "      <td>NaN</td>\n",
       "      <td>0.000000</td>\n",
       "    </tr>\n",
       "    <tr>\n",
       "      <th>268146</th>\n",
       "      <td>2023-12-31 09:59:03</td>\n",
       "      <td>2023-12-31 10:10:58</td>\n",
       "      <td>4.000000</td>\n",
       "      <td>3.100000</td>\n",
       "      <td>1.000000</td>\n",
       "      <td>170</td>\n",
       "      <td>239</td>\n",
       "      <td>1</td>\n",
       "      <td>15.600000</td>\n",
       "      <td>2.500000</td>\n",
       "      <td>4.900000</td>\n",
       "      <td>2.500000</td>\n",
       "      <td>NaN</td>\n",
       "      <td>0.000000</td>\n",
       "    </tr>\n",
       "    <tr>\n",
       "      <th>268147</th>\n",
       "      <td>2023-12-31 09:48:55</td>\n",
       "      <td>2023-12-31 09:56:42</td>\n",
       "      <td>1.000000</td>\n",
       "      <td>1.600000</td>\n",
       "      <td>1.000000</td>\n",
       "      <td>163</td>\n",
       "      <td>236</td>\n",
       "      <td>1</td>\n",
       "      <td>10.000000</td>\n",
       "      <td>2.500000</td>\n",
       "      <td>3.500000</td>\n",
       "      <td>2.500000</td>\n",
       "      <td>NaN</td>\n",
       "      <td>0.000000</td>\n",
       "    </tr>\n",
       "    <tr>\n",
       "      <th>268148</th>\n",
       "      <td>2023-12-31 09:10:03</td>\n",
       "      <td>2023-12-31 09:52:12</td>\n",
       "      <td>1.000000</td>\n",
       "      <td>1.100000</td>\n",
       "      <td>99.000000</td>\n",
       "      <td>50</td>\n",
       "      <td>186</td>\n",
       "      <td>1</td>\n",
       "      <td>17.500000</td>\n",
       "      <td>0.000000</td>\n",
       "      <td>0.000000</td>\n",
       "      <td>0.000000</td>\n",
       "      <td>NaN</td>\n",
       "      <td>0.000000</td>\n",
       "    </tr>\n",
       "    <tr>\n",
       "      <th>268149</th>\n",
       "      <td>2023-12-31 09:59:15</td>\n",
       "      <td>2023-12-31 10:12:01</td>\n",
       "      <td>2.000000</td>\n",
       "      <td>6.180000</td>\n",
       "      <td>1.000000</td>\n",
       "      <td>162</td>\n",
       "      <td>261</td>\n",
       "      <td>1</td>\n",
       "      <td>26.100000</td>\n",
       "      <td>0.000000</td>\n",
       "      <td>6.020000</td>\n",
       "      <td>2.500000</td>\n",
       "      <td>NaN</td>\n",
       "      <td>0.000000</td>\n",
       "    </tr>\n",
       "  </tbody>\n",
       "</table>\n",
       "<p>268150 rows × 14 columns</p>\n",
       "</div>"
      ],
      "text/plain": [
       "       tpep_pickup_datetime tpep_dropoff_datetime  passenger_count  \\\n",
       "0       2023-01-01 00:23:23   2023-01-01 00:45:35         1.000000   \n",
       "1       2023-01-01 00:21:57   2023-01-01 00:32:21         1.000000   \n",
       "2       2023-01-01 00:55:12   2023-01-02 00:52:12         1.000000   \n",
       "3       2023-01-01 00:54:00   2023-01-01 01:27:00              NaN   \n",
       "4       2023-01-01 00:12:09   2023-01-01 00:36:30         1.000000   \n",
       "...                     ...                   ...              ...   \n",
       "268145  2023-12-31 09:49:26   2023-12-31 10:25:41         1.000000   \n",
       "268146  2023-12-31 09:59:03   2023-12-31 10:10:58         4.000000   \n",
       "268147  2023-12-31 09:48:55   2023-12-31 09:56:42         1.000000   \n",
       "268148  2023-12-31 09:10:03   2023-12-31 09:52:12         1.000000   \n",
       "268149  2023-12-31 09:59:15   2023-12-31 10:12:01         2.000000   \n",
       "\n",
       "        trip_distance  RatecodeID  PULocationID  DOLocationID  payment_type  \\\n",
       "0            5.400000    1.000000           239           107             1   \n",
       "1            1.470000    1.000000           141           141             2   \n",
       "2            3.430000    1.000000           170           239             2   \n",
       "3            0.240000         NaN           143           148             0   \n",
       "4            4.400000    1.000000           239            90             1   \n",
       "...               ...         ...           ...           ...           ...   \n",
       "268145      20.900000   99.000000           259           124             1   \n",
       "268146       3.100000    1.000000           170           239             1   \n",
       "268147       1.600000    1.000000           163           236             1   \n",
       "268148       1.100000   99.000000            50           186             1   \n",
       "268149       6.180000    1.000000           162           261             1   \n",
       "\n",
       "        fare_amount    extra  tip_amount  congestion_surcharge  airport_fee  \\\n",
       "0         25.400000 3.500000    7.550000              2.500000     0.000000   \n",
       "1         11.400000 1.000000    0.000000              2.500000     0.000000   \n",
       "2         21.200000 1.000000    0.000000              2.500000     0.000000   \n",
       "3         36.440000 0.000000    8.090000                   NaN          NaN   \n",
       "4         25.400000 3.500000    6.050000              2.500000     0.000000   \n",
       "...             ...      ...         ...                   ...          ...   \n",
       "268145    75.500000 0.000000    0.000000              0.000000          NaN   \n",
       "268146    15.600000 2.500000    4.900000              2.500000          NaN   \n",
       "268147    10.000000 2.500000    3.500000              2.500000          NaN   \n",
       "268148    17.500000 0.000000    0.000000              0.000000          NaN   \n",
       "268149    26.100000 0.000000    6.020000              2.500000          NaN   \n",
       "\n",
       "        Airport_fee  \n",
       "0               NaN  \n",
       "1               NaN  \n",
       "2               NaN  \n",
       "3               NaN  \n",
       "4               NaN  \n",
       "...             ...  \n",
       "268145     0.000000  \n",
       "268146     0.000000  \n",
       "268147     0.000000  \n",
       "268148     0.000000  \n",
       "268149     0.000000  \n",
       "\n",
       "[268150 rows x 14 columns]"
      ]
     },
     "execution_count": 12,
     "metadata": {},
     "output_type": "execute_result"
    }
   ],
   "source": [
    "# Fix the index and drop any columns that are not needed\n",
    "df = df_raw.copy()\n",
    "df.reset_index(inplace=True, drop=True) # Fix the index\n",
    "df.drop(columns='VendorID', inplace=True) # We don't care about the vendor which the data came from\n",
    "df.drop(columns='store_and_fwd_flag', inplace=True) # Metadata about whether the rows were stored and forwarded, not related to our analysis\n",
    "df.drop(columns='mta_tax', inplace=True) # Are static ~98% of the time\n",
    "df.drop(columns='tolls_amount', inplace=True) # Are static ~92% of the time, only useful for analyzing bridge/tunnel usage\n",
    "df.drop(columns='improvement_surcharge', inplace=True) # Are static ~99% of the time\n",
    "df.drop(columns='total_amount', inplace=True) # We'll be using fare_amount so total_amount is redundant as it can be calculated using other columns\n",
    "\n",
    "df\n"
   ]
  },
  {
   "cell_type": "code",
   "execution_count": 13,
   "metadata": {},
   "outputs": [
    {
     "name": "stdout",
     "output_type": "stream",
     "text": [
      "91.85493194107775\n"
     ]
    },
    {
     "data": {
      "text/plain": [
       "tolls_amount\n",
       "0.000000      246309\n",
       "6.550000       11859\n",
       "6.940000        8052\n",
       "12.750000        266\n",
       "14.750000        241\n",
       "               ...  \n",
       "22.150000          1\n",
       "39.500000          1\n",
       "-36.050000         1\n",
       "6.220000           1\n",
       "15.760000          1\n",
       "Name: count, Length: 299, dtype: int64"
      ]
     },
     "execution_count": 13,
     "metadata": {},
     "output_type": "execute_result"
    }
   ],
   "source": [
    "most_frequent_value_count = df_raw['tolls_amount'].value_counts().iloc[0]\n",
    "total_count = len(df_raw['tolls_amount'])\n",
    "\n",
    "percentage = most_frequent_value_count / total_count * 100\n",
    "print(percentage)\n",
    "df_raw['tolls_amount'].value_counts(dropna=False)\n",
    "\n"
   ]
  },
  {
   "cell_type": "markdown",
   "metadata": {
    "id": "TIFmxvIT2wsn"
   },
   "source": [
    "**2.1.2** <font color = red>[3 marks]</font> <br>\n",
    "There are two airport fee columns. This is possibly an error in naming columns. Let's see whether these can be combined into a single column."
   ]
  },
  {
   "cell_type": "code",
   "execution_count": 14,
   "metadata": {
    "id": "rmtgnb1x6TrV"
   },
   "outputs": [
    {
     "name": "stdout",
     "output_type": "stream",
     "text": [
      "Column airport_fee has 247186 missing values\n",
      "Column airport_fee has 30169 missing values\n"
     ]
    },
    {
     "data": {
      "text/html": [
       "<div>\n",
       "<style scoped>\n",
       "    .dataframe tbody tr th:only-of-type {\n",
       "        vertical-align: middle;\n",
       "    }\n",
       "\n",
       "    .dataframe tbody tr th {\n",
       "        vertical-align: top;\n",
       "    }\n",
       "\n",
       "    .dataframe thead th {\n",
       "        text-align: right;\n",
       "    }\n",
       "</style>\n",
       "<table border=\"1\" class=\"dataframe\">\n",
       "  <thead>\n",
       "    <tr style=\"text-align: right;\">\n",
       "      <th></th>\n",
       "      <th>airport_fee</th>\n",
       "      <th>Airport_fee</th>\n",
       "    </tr>\n",
       "  </thead>\n",
       "  <tbody>\n",
       "    <tr>\n",
       "      <th>0</th>\n",
       "      <td>0.000000</td>\n",
       "      <td>NaN</td>\n",
       "    </tr>\n",
       "    <tr>\n",
       "      <th>3</th>\n",
       "      <td>NaN</td>\n",
       "      <td>NaN</td>\n",
       "    </tr>\n",
       "    <tr>\n",
       "      <th>24</th>\n",
       "      <td>-1.250000</td>\n",
       "      <td>NaN</td>\n",
       "    </tr>\n",
       "    <tr>\n",
       "      <th>25</th>\n",
       "      <td>1.250000</td>\n",
       "      <td>NaN</td>\n",
       "    </tr>\n",
       "    <tr>\n",
       "      <th>21456</th>\n",
       "      <td>NaN</td>\n",
       "      <td>0.000000</td>\n",
       "    </tr>\n",
       "    <tr>\n",
       "      <th>21460</th>\n",
       "      <td>NaN</td>\n",
       "      <td>1.250000</td>\n",
       "    </tr>\n",
       "    <tr>\n",
       "      <th>21764</th>\n",
       "      <td>NaN</td>\n",
       "      <td>-1.250000</td>\n",
       "    </tr>\n",
       "    <tr>\n",
       "      <th>68678</th>\n",
       "      <td>NaN</td>\n",
       "      <td>1.750000</td>\n",
       "    </tr>\n",
       "    <tr>\n",
       "      <th>69091</th>\n",
       "      <td>NaN</td>\n",
       "      <td>-1.750000</td>\n",
       "    </tr>\n",
       "  </tbody>\n",
       "</table>\n",
       "</div>"
      ],
      "text/plain": [
       "       airport_fee  Airport_fee\n",
       "0         0.000000          NaN\n",
       "3              NaN          NaN\n",
       "24       -1.250000          NaN\n",
       "25        1.250000          NaN\n",
       "21456          NaN     0.000000\n",
       "21460          NaN     1.250000\n",
       "21764          NaN    -1.250000\n",
       "68678          NaN     1.750000\n",
       "69091          NaN    -1.750000"
      ]
     },
     "metadata": {},
     "output_type": "display_data"
    },
    {
     "name": "stdout",
     "output_type": "stream",
     "text": [
      "Column airport_fee has 9205 missing values after combining\n"
     ]
    }
   ],
   "source": [
    "# Combine the two airport fee columns\n",
    "# Check the number of missing values from both columns\n",
    "print(f'Column airport_fee has {df.airport_fee.isna().sum()} missing values')\n",
    "print(f'Column airport_fee has {df.Airport_fee.isna().sum()} missing values')\n",
    "# Confirming that the two columns have no conflicting values\n",
    "display(df.loc[df['airport_fee'] != df['Airport_fee']][['airport_fee', 'Airport_fee']].drop_duplicates())\n",
    "# We will keep the airport_fee column as its naming convention is more in line with other columns, and fill the missing values using Airport_fee\n",
    "df['airport_fee'] = df['airport_fee'].fillna(df['Airport_fee'])\n",
    "df.drop(columns='Airport_fee', inplace=True)\n",
    "# Check the number of missing values from the combined column\n",
    "print(f'Column airport_fee has {df.airport_fee.isna().sum()} missing values after combining')"
   ]
  },
  {
   "cell_type": "markdown",
   "metadata": {
    "id": "1g4AHG7mOYgP"
   },
   "source": [
    "**2.1.3** <font color = red>[5 marks]</font> <br>\n",
    "Fix columns with negative (monetary) values"
   ]
  },
  {
   "cell_type": "code",
   "execution_count": 15,
   "metadata": {
    "id": "nBsMT2MII1Hv"
   },
   "outputs": [
    {
     "name": "stdout",
     "output_type": "stream",
     "text": [
      "The fare_amount column contains 2641 (0.98%) negative values out of 268150\n"
     ]
    },
    {
     "data": {
      "text/html": [
       "<div>\n",
       "<style scoped>\n",
       "    .dataframe tbody tr th:only-of-type {\n",
       "        vertical-align: middle;\n",
       "    }\n",
       "\n",
       "    .dataframe tbody tr th {\n",
       "        vertical-align: top;\n",
       "    }\n",
       "\n",
       "    .dataframe thead th {\n",
       "        text-align: right;\n",
       "    }\n",
       "</style>\n",
       "<table border=\"1\" class=\"dataframe\">\n",
       "  <thead>\n",
       "    <tr style=\"text-align: right;\">\n",
       "      <th></th>\n",
       "      <th>tpep_pickup_datetime</th>\n",
       "      <th>tpep_dropoff_datetime</th>\n",
       "      <th>passenger_count</th>\n",
       "      <th>trip_distance</th>\n",
       "      <th>RatecodeID</th>\n",
       "      <th>PULocationID</th>\n",
       "      <th>DOLocationID</th>\n",
       "      <th>payment_type</th>\n",
       "      <th>fare_amount</th>\n",
       "      <th>extra</th>\n",
       "      <th>tip_amount</th>\n",
       "      <th>congestion_surcharge</th>\n",
       "      <th>airport_fee</th>\n",
       "    </tr>\n",
       "  </thead>\n",
       "  <tbody>\n",
       "    <tr>\n",
       "      <th>24</th>\n",
       "      <td>2023-01-01 00:24:36</td>\n",
       "      <td>2023-01-01 00:47:45</td>\n",
       "      <td>3.000000</td>\n",
       "      <td>9.790000</td>\n",
       "      <td>4.000000</td>\n",
       "      <td>132</td>\n",
       "      <td>265</td>\n",
       "      <td>4</td>\n",
       "      <td>-57.600000</td>\n",
       "      <td>-1.000000</td>\n",
       "      <td>0.000000</td>\n",
       "      <td>0.000000</td>\n",
       "      <td>-1.250000</td>\n",
       "    </tr>\n",
       "    <tr>\n",
       "      <th>87</th>\n",
       "      <td>2023-01-01 10:41:48</td>\n",
       "      <td>2023-01-01 10:46:23</td>\n",
       "      <td>1.000000</td>\n",
       "      <td>0.840000</td>\n",
       "      <td>1.000000</td>\n",
       "      <td>79</td>\n",
       "      <td>211</td>\n",
       "      <td>2</td>\n",
       "      <td>-7.200000</td>\n",
       "      <td>0.000000</td>\n",
       "      <td>0.000000</td>\n",
       "      <td>-2.500000</td>\n",
       "      <td>0.000000</td>\n",
       "    </tr>\n",
       "    <tr>\n",
       "      <th>162</th>\n",
       "      <td>2023-01-01 13:38:56</td>\n",
       "      <td>2023-01-01 13:45:24</td>\n",
       "      <td>2.000000</td>\n",
       "      <td>1.380000</td>\n",
       "      <td>1.000000</td>\n",
       "      <td>249</td>\n",
       "      <td>234</td>\n",
       "      <td>2</td>\n",
       "      <td>-9.300000</td>\n",
       "      <td>0.000000</td>\n",
       "      <td>0.000000</td>\n",
       "      <td>-2.500000</td>\n",
       "      <td>0.000000</td>\n",
       "    </tr>\n",
       "    <tr>\n",
       "      <th>252</th>\n",
       "      <td>2023-01-01 16:22:21</td>\n",
       "      <td>2023-01-01 16:46:04</td>\n",
       "      <td>3.000000</td>\n",
       "      <td>4.220000</td>\n",
       "      <td>2.000000</td>\n",
       "      <td>145</td>\n",
       "      <td>163</td>\n",
       "      <td>4</td>\n",
       "      <td>-70.000000</td>\n",
       "      <td>0.000000</td>\n",
       "      <td>0.000000</td>\n",
       "      <td>-2.500000</td>\n",
       "      <td>-1.250000</td>\n",
       "    </tr>\n",
       "    <tr>\n",
       "      <th>474</th>\n",
       "      <td>2023-01-01 03:56:46</td>\n",
       "      <td>2023-01-01 04:35:16</td>\n",
       "      <td>1.000000</td>\n",
       "      <td>12.170000</td>\n",
       "      <td>1.000000</td>\n",
       "      <td>144</td>\n",
       "      <td>181</td>\n",
       "      <td>4</td>\n",
       "      <td>-55.500000</td>\n",
       "      <td>-1.000000</td>\n",
       "      <td>0.000000</td>\n",
       "      <td>-2.500000</td>\n",
       "      <td>0.000000</td>\n",
       "    </tr>\n",
       "  </tbody>\n",
       "</table>\n",
       "</div>"
      ],
      "text/plain": [
       "    tpep_pickup_datetime tpep_dropoff_datetime  passenger_count  \\\n",
       "24   2023-01-01 00:24:36   2023-01-01 00:47:45         3.000000   \n",
       "87   2023-01-01 10:41:48   2023-01-01 10:46:23         1.000000   \n",
       "162  2023-01-01 13:38:56   2023-01-01 13:45:24         2.000000   \n",
       "252  2023-01-01 16:22:21   2023-01-01 16:46:04         3.000000   \n",
       "474  2023-01-01 03:56:46   2023-01-01 04:35:16         1.000000   \n",
       "\n",
       "     trip_distance  RatecodeID  PULocationID  DOLocationID  payment_type  \\\n",
       "24        9.790000    4.000000           132           265             4   \n",
       "87        0.840000    1.000000            79           211             2   \n",
       "162       1.380000    1.000000           249           234             2   \n",
       "252       4.220000    2.000000           145           163             4   \n",
       "474      12.170000    1.000000           144           181             4   \n",
       "\n",
       "     fare_amount     extra  tip_amount  congestion_surcharge  airport_fee  \n",
       "24    -57.600000 -1.000000    0.000000              0.000000    -1.250000  \n",
       "87     -7.200000  0.000000    0.000000             -2.500000     0.000000  \n",
       "162    -9.300000  0.000000    0.000000             -2.500000     0.000000  \n",
       "252   -70.000000  0.000000    0.000000             -2.500000    -1.250000  \n",
       "474   -55.500000 -1.000000    0.000000             -2.500000     0.000000  "
      ]
     },
     "execution_count": 15,
     "metadata": {},
     "output_type": "execute_result"
    }
   ],
   "source": [
    "# check where values of fare amount are negative\n",
    "def show_negative(df, column):\n",
    "    row_total = df.shape[0]\n",
    "    neg_count = df[df[column] < 0].shape[0]\n",
    "    neg_percent = neg_count / row_total * 100\n",
    "    return print(f'The {column} column contains {neg_count} ({neg_percent:.2f}%) negative values out of {row_total}')\n",
    "\n",
    "\n",
    "negative_df = df.loc[df['fare_amount'] < 0]\n",
    "show_negative(df, 'fare_amount')\n",
    "negative_df.head()"
   ]
  },
  {
   "cell_type": "markdown",
   "metadata": {
    "id": "JNKpDtTh8awi"
   },
   "source": [
    "Did you notice something different in the `RatecodeID` column for above records?"
   ]
  },
  {
   "cell_type": "code",
   "execution_count": 16,
   "metadata": {
    "id": "9eVrrj7c3kjq"
   },
   "outputs": [
    {
     "name": "stdout",
     "output_type": "stream",
     "text": [
      "RatecodeID\n",
      "1.000000   90.050135\n",
      "2.000000    5.823371\n",
      "5.000000    2.043965\n",
      "3.000000    1.388353\n",
      "4.000000    0.694177\n",
      "Name: proportion, dtype: float64\n",
      "RatecodeID\n",
      "1.000000    94.309216\n",
      "2.000000     3.923227\n",
      "5.000000     0.610554\n",
      "99.000000    0.595879\n",
      "3.000000     0.350654\n",
      "4.000000     0.210469\n",
      "Name: proportion, dtype: float64\n"
     ]
    }
   ],
   "source": [
    "# Analyse RatecodeID for the negative fare amounts\n",
    "print(negative_df['RatecodeID'].value_counts(normalize=True) * 100)\n",
    "print(df['RatecodeID'].value_counts(normalize=True) * 100)\n",
    "# Seems like there is not really a difference in the Ratecode ID distribution between negative fare amounts and the original dataframe"
   ]
  },
  {
   "cell_type": "code",
   "execution_count": 17,
   "metadata": {
    "id": "Ruyh2vaCRNxr"
   },
   "outputs": [
    {
     "name": "stdout",
     "output_type": "stream",
     "text": [
      "The passenger_count column contains 0 (0.00%) negative values out of 268150\n",
      "The trip_distance column contains 0 (0.00%) negative values out of 268150\n",
      "The RatecodeID column contains 0 (0.00%) negative values out of 268150\n",
      "The PULocationID column contains 0 (0.00%) negative values out of 268150\n",
      "The DOLocationID column contains 0 (0.00%) negative values out of 268150\n",
      "The payment_type column contains 0 (0.00%) negative values out of 268150\n",
      "The fare_amount column contains 2641 (0.98%) negative values out of 268150\n",
      "The extra column contains 1300 (0.48%) negative values out of 268150\n",
      "The tip_amount column contains 14 (0.01%) negative values out of 268150\n",
      "The congestion_surcharge column contains 2089 (0.78%) negative values out of 268150\n",
      "The airport_fee column contains 336 (0.13%) negative values out of 268150\n"
     ]
    }
   ],
   "source": [
    "# Find which columns have negative values\n",
    "numeric_cols = df.select_dtypes(include=['number']).columns\n",
    "for col in numeric_cols:\n",
    "    show_negative(df, col)\n"
   ]
  },
  {
   "cell_type": "code",
   "execution_count": 18,
   "metadata": {},
   "outputs": [
    {
     "data": {
      "text/plain": [
       "Index(['passenger_count', 'trip_distance', 'RatecodeID', 'PULocationID',\n",
       "       'DOLocationID', 'payment_type', 'fare_amount', 'extra', 'tip_amount',\n",
       "       'congestion_surcharge', 'airport_fee'],\n",
       "      dtype='object')"
      ]
     },
     "execution_count": 18,
     "metadata": {},
     "output_type": "execute_result"
    }
   ],
   "source": [
    "numeric_cols"
   ]
  },
  {
   "cell_type": "code",
   "execution_count": 19,
   "metadata": {
    "id": "mPehZ6PJg3_J"
   },
   "outputs": [
    {
     "name": "stdout",
     "output_type": "stream",
     "text": [
      "The passenger_count column contains 0 (0.00%) negative values out of 268150\n",
      "The trip_distance column contains 0 (0.00%) negative values out of 268150\n",
      "The RatecodeID column contains 0 (0.00%) negative values out of 268150\n",
      "The PULocationID column contains 0 (0.00%) negative values out of 268150\n",
      "The DOLocationID column contains 0 (0.00%) negative values out of 268150\n",
      "The payment_type column contains 0 (0.00%) negative values out of 268150\n",
      "The fare_amount column contains 0 (0.00%) negative values out of 268150\n",
      "The extra column contains 0 (0.00%) negative values out of 268150\n",
      "The tip_amount column contains 0 (0.00%) negative values out of 268150\n",
      "The congestion_surcharge column contains 0 (0.00%) negative values out of 268150\n",
      "The airport_fee column contains 0 (0.00%) negative values out of 268150\n"
     ]
    }
   ],
   "source": [
    "# fix these negative values\n",
    "# We disregard the possibility that the negative values are for refund transaction, and assume that these values are meant to be positive\n",
    "df[numeric_cols] = df[numeric_cols].abs()\n",
    "\n",
    "# Check that all numeric columns now don't contain negative values\n",
    "for col in numeric_cols:\n",
    "    show_negative(df, col)\n"
   ]
  },
  {
   "cell_type": "markdown",
   "metadata": {
    "id": "x2hakCCy6wXI"
   },
   "source": [
    "### **2.2** Handling Missing Values\n",
    "<font color = red>[10 marks]</font> <br>"
   ]
  },
  {
   "cell_type": "markdown",
   "metadata": {
    "id": "-K-QNPDVVhzR"
   },
   "source": [
    "**2.2.1**  <font color = red>[2 marks]</font> <br>\n",
    "Find the proportion of missing values in each column\n",
    "\n",
    "\n"
   ]
  },
  {
   "cell_type": "code",
   "execution_count": 20,
   "metadata": {
    "id": "tfTa9cct6Gec"
   },
   "outputs": [
    {
     "data": {
      "text/plain": [
       "tpep_pickup_datetime    0.000000\n",
       "tpep_dropoff_datetime   0.000000\n",
       "passenger_count         3.432780\n",
       "trip_distance           0.000000\n",
       "RatecodeID              3.432780\n",
       "PULocationID            0.000000\n",
       "DOLocationID            0.000000\n",
       "payment_type            0.000000\n",
       "fare_amount             0.000000\n",
       "extra                   0.000000\n",
       "tip_amount              0.000000\n",
       "congestion_surcharge    3.432780\n",
       "airport_fee             3.432780\n",
       "dtype: float64"
      ]
     },
     "execution_count": 20,
     "metadata": {},
     "output_type": "execute_result"
    }
   ],
   "source": [
    "# Find the proportion of missing values in each column\n",
    "df.isna().mean() * 100\n",
    "# We have the exact same amount of missing values accross passenger_count, RatecodeID, and airport_fee. This shows correlation."
   ]
  },
  {
   "cell_type": "markdown",
   "metadata": {
    "id": "-UdUl6AL_-E_"
   },
   "source": [
    "**2.2.2**  <font color = red>[3 marks]</font> <br>\n",
    "Handling missing values in `passenger_count`"
   ]
  },
  {
   "cell_type": "code",
   "execution_count": 21,
   "metadata": {
    "id": "JmNmhr4q8Xys"
   },
   "outputs": [
    {
     "data": {
      "text/html": [
       "<div>\n",
       "<style scoped>\n",
       "    .dataframe tbody tr th:only-of-type {\n",
       "        vertical-align: middle;\n",
       "    }\n",
       "\n",
       "    .dataframe tbody tr th {\n",
       "        vertical-align: top;\n",
       "    }\n",
       "\n",
       "    .dataframe thead th {\n",
       "        text-align: right;\n",
       "    }\n",
       "</style>\n",
       "<table border=\"1\" class=\"dataframe\">\n",
       "  <thead>\n",
       "    <tr style=\"text-align: right;\">\n",
       "      <th></th>\n",
       "      <th>tpep_pickup_datetime</th>\n",
       "      <th>tpep_dropoff_datetime</th>\n",
       "      <th>passenger_count</th>\n",
       "      <th>trip_distance</th>\n",
       "      <th>RatecodeID</th>\n",
       "      <th>PULocationID</th>\n",
       "      <th>DOLocationID</th>\n",
       "      <th>payment_type</th>\n",
       "      <th>fare_amount</th>\n",
       "      <th>extra</th>\n",
       "      <th>tip_amount</th>\n",
       "      <th>congestion_surcharge</th>\n",
       "      <th>airport_fee</th>\n",
       "    </tr>\n",
       "  </thead>\n",
       "  <tbody>\n",
       "    <tr>\n",
       "      <th>3</th>\n",
       "      <td>2023-01-01 00:54:00</td>\n",
       "      <td>2023-01-01 01:27:00</td>\n",
       "      <td>NaN</td>\n",
       "      <td>0.240000</td>\n",
       "      <td>NaN</td>\n",
       "      <td>143</td>\n",
       "      <td>148</td>\n",
       "      <td>0</td>\n",
       "      <td>36.440000</td>\n",
       "      <td>0.000000</td>\n",
       "      <td>8.090000</td>\n",
       "      <td>NaN</td>\n",
       "      <td>NaN</td>\n",
       "    </tr>\n",
       "    <tr>\n",
       "      <th>5</th>\n",
       "      <td>2023-01-01 00:51:10</td>\n",
       "      <td>2023-01-01 01:21:38</td>\n",
       "      <td>NaN</td>\n",
       "      <td>13.150000</td>\n",
       "      <td>NaN</td>\n",
       "      <td>225</td>\n",
       "      <td>74</td>\n",
       "      <td>0</td>\n",
       "      <td>50.810000</td>\n",
       "      <td>0.000000</td>\n",
       "      <td>11.770000</td>\n",
       "      <td>NaN</td>\n",
       "      <td>NaN</td>\n",
       "    </tr>\n",
       "    <tr>\n",
       "      <th>8</th>\n",
       "      <td>2023-01-01 00:39:00</td>\n",
       "      <td>2023-01-01 01:07:00</td>\n",
       "      <td>NaN</td>\n",
       "      <td>5.980000</td>\n",
       "      <td>NaN</td>\n",
       "      <td>148</td>\n",
       "      <td>239</td>\n",
       "      <td>0</td>\n",
       "      <td>37.400000</td>\n",
       "      <td>0.000000</td>\n",
       "      <td>8.280000</td>\n",
       "      <td>NaN</td>\n",
       "      <td>NaN</td>\n",
       "    </tr>\n",
       "    <tr>\n",
       "      <th>11</th>\n",
       "      <td>2023-01-01 00:41:00</td>\n",
       "      <td>2023-01-01 00:55:00</td>\n",
       "      <td>NaN</td>\n",
       "      <td>3.430000</td>\n",
       "      <td>NaN</td>\n",
       "      <td>162</td>\n",
       "      <td>193</td>\n",
       "      <td>0</td>\n",
       "      <td>16.630000</td>\n",
       "      <td>0.000000</td>\n",
       "      <td>3.090000</td>\n",
       "      <td>NaN</td>\n",
       "      <td>NaN</td>\n",
       "    </tr>\n",
       "    <tr>\n",
       "      <th>22</th>\n",
       "      <td>2023-01-01 00:53:47</td>\n",
       "      <td>2023-01-01 01:24:13</td>\n",
       "      <td>NaN</td>\n",
       "      <td>9.520000</td>\n",
       "      <td>NaN</td>\n",
       "      <td>127</td>\n",
       "      <td>50</td>\n",
       "      <td>0</td>\n",
       "      <td>43.600000</td>\n",
       "      <td>0.000000</td>\n",
       "      <td>9.520000</td>\n",
       "      <td>NaN</td>\n",
       "      <td>NaN</td>\n",
       "    </tr>\n",
       "    <tr>\n",
       "      <th>...</th>\n",
       "      <td>...</td>\n",
       "      <td>...</td>\n",
       "      <td>...</td>\n",
       "      <td>...</td>\n",
       "      <td>...</td>\n",
       "      <td>...</td>\n",
       "      <td>...</td>\n",
       "      <td>...</td>\n",
       "      <td>...</td>\n",
       "      <td>...</td>\n",
       "      <td>...</td>\n",
       "      <td>...</td>\n",
       "      <td>...</td>\n",
       "    </tr>\n",
       "    <tr>\n",
       "      <th>268106</th>\n",
       "      <td>2023-12-31 04:19:19</td>\n",
       "      <td>2023-12-31 05:06:37</td>\n",
       "      <td>NaN</td>\n",
       "      <td>11.810000</td>\n",
       "      <td>NaN</td>\n",
       "      <td>61</td>\n",
       "      <td>144</td>\n",
       "      <td>0</td>\n",
       "      <td>37.940000</td>\n",
       "      <td>0.000000</td>\n",
       "      <td>0.000000</td>\n",
       "      <td>NaN</td>\n",
       "      <td>NaN</td>\n",
       "    </tr>\n",
       "    <tr>\n",
       "      <th>268107</th>\n",
       "      <td>2023-12-31 04:30:04</td>\n",
       "      <td>2023-12-31 04:49:39</td>\n",
       "      <td>NaN</td>\n",
       "      <td>4.590000</td>\n",
       "      <td>NaN</td>\n",
       "      <td>90</td>\n",
       "      <td>41</td>\n",
       "      <td>0</td>\n",
       "      <td>23.940000</td>\n",
       "      <td>0.000000</td>\n",
       "      <td>0.000000</td>\n",
       "      <td>NaN</td>\n",
       "      <td>NaN</td>\n",
       "    </tr>\n",
       "    <tr>\n",
       "      <th>268111</th>\n",
       "      <td>2023-12-31 05:48:30</td>\n",
       "      <td>2023-12-31 05:57:40</td>\n",
       "      <td>NaN</td>\n",
       "      <td>3.190000</td>\n",
       "      <td>NaN</td>\n",
       "      <td>48</td>\n",
       "      <td>24</td>\n",
       "      <td>0</td>\n",
       "      <td>0.590000</td>\n",
       "      <td>0.000000</td>\n",
       "      <td>0.000000</td>\n",
       "      <td>NaN</td>\n",
       "      <td>NaN</td>\n",
       "    </tr>\n",
       "    <tr>\n",
       "      <th>268117</th>\n",
       "      <td>2023-12-31 06:44:16</td>\n",
       "      <td>2023-12-31 06:52:03</td>\n",
       "      <td>NaN</td>\n",
       "      <td>0.000000</td>\n",
       "      <td>NaN</td>\n",
       "      <td>75</td>\n",
       "      <td>74</td>\n",
       "      <td>0</td>\n",
       "      <td>6.830000</td>\n",
       "      <td>0.000000</td>\n",
       "      <td>0.000000</td>\n",
       "      <td>NaN</td>\n",
       "      <td>NaN</td>\n",
       "    </tr>\n",
       "    <tr>\n",
       "      <th>268142</th>\n",
       "      <td>2023-12-31 09:49:27</td>\n",
       "      <td>2023-12-31 10:08:45</td>\n",
       "      <td>0.000000</td>\n",
       "      <td>18.800000</td>\n",
       "      <td>2.000000</td>\n",
       "      <td>75</td>\n",
       "      <td>132</td>\n",
       "      <td>1</td>\n",
       "      <td>70.000000</td>\n",
       "      <td>0.000000</td>\n",
       "      <td>15.650000</td>\n",
       "      <td>0.000000</td>\n",
       "      <td>0.000000</td>\n",
       "    </tr>\n",
       "  </tbody>\n",
       "</table>\n",
       "<p>13280 rows × 13 columns</p>\n",
       "</div>"
      ],
      "text/plain": [
       "       tpep_pickup_datetime tpep_dropoff_datetime  passenger_count  \\\n",
       "3       2023-01-01 00:54:00   2023-01-01 01:27:00              NaN   \n",
       "5       2023-01-01 00:51:10   2023-01-01 01:21:38              NaN   \n",
       "8       2023-01-01 00:39:00   2023-01-01 01:07:00              NaN   \n",
       "11      2023-01-01 00:41:00   2023-01-01 00:55:00              NaN   \n",
       "22      2023-01-01 00:53:47   2023-01-01 01:24:13              NaN   \n",
       "...                     ...                   ...              ...   \n",
       "268106  2023-12-31 04:19:19   2023-12-31 05:06:37              NaN   \n",
       "268107  2023-12-31 04:30:04   2023-12-31 04:49:39              NaN   \n",
       "268111  2023-12-31 05:48:30   2023-12-31 05:57:40              NaN   \n",
       "268117  2023-12-31 06:44:16   2023-12-31 06:52:03              NaN   \n",
       "268142  2023-12-31 09:49:27   2023-12-31 10:08:45         0.000000   \n",
       "\n",
       "        trip_distance  RatecodeID  PULocationID  DOLocationID  payment_type  \\\n",
       "3            0.240000         NaN           143           148             0   \n",
       "5           13.150000         NaN           225            74             0   \n",
       "8            5.980000         NaN           148           239             0   \n",
       "11           3.430000         NaN           162           193             0   \n",
       "22           9.520000         NaN           127            50             0   \n",
       "...               ...         ...           ...           ...           ...   \n",
       "268106      11.810000         NaN            61           144             0   \n",
       "268107       4.590000         NaN            90            41             0   \n",
       "268111       3.190000         NaN            48            24             0   \n",
       "268117       0.000000         NaN            75            74             0   \n",
       "268142      18.800000    2.000000            75           132             1   \n",
       "\n",
       "        fare_amount    extra  tip_amount  congestion_surcharge  airport_fee  \n",
       "3         36.440000 0.000000    8.090000                   NaN          NaN  \n",
       "5         50.810000 0.000000   11.770000                   NaN          NaN  \n",
       "8         37.400000 0.000000    8.280000                   NaN          NaN  \n",
       "11        16.630000 0.000000    3.090000                   NaN          NaN  \n",
       "22        43.600000 0.000000    9.520000                   NaN          NaN  \n",
       "...             ...      ...         ...                   ...          ...  \n",
       "268106    37.940000 0.000000    0.000000                   NaN          NaN  \n",
       "268107    23.940000 0.000000    0.000000                   NaN          NaN  \n",
       "268111     0.590000 0.000000    0.000000                   NaN          NaN  \n",
       "268117     6.830000 0.000000    0.000000                   NaN          NaN  \n",
       "268142    70.000000 0.000000   15.650000              0.000000     0.000000  \n",
       "\n",
       "[13280 rows x 13 columns]"
      ]
     },
     "metadata": {},
     "output_type": "display_data"
    },
    {
     "data": {
      "text/html": [
       "<div>\n",
       "<style scoped>\n",
       "    .dataframe tbody tr th:only-of-type {\n",
       "        vertical-align: middle;\n",
       "    }\n",
       "\n",
       "    .dataframe tbody tr th {\n",
       "        vertical-align: top;\n",
       "    }\n",
       "\n",
       "    .dataframe thead th {\n",
       "        text-align: right;\n",
       "    }\n",
       "</style>\n",
       "<table border=\"1\" class=\"dataframe\">\n",
       "  <thead>\n",
       "    <tr style=\"text-align: right;\">\n",
       "      <th></th>\n",
       "      <th>tpep_pickup_datetime</th>\n",
       "      <th>tpep_dropoff_datetime</th>\n",
       "      <th>passenger_count</th>\n",
       "      <th>trip_distance</th>\n",
       "      <th>RatecodeID</th>\n",
       "      <th>PULocationID</th>\n",
       "      <th>DOLocationID</th>\n",
       "      <th>payment_type</th>\n",
       "      <th>fare_amount</th>\n",
       "      <th>extra</th>\n",
       "      <th>tip_amount</th>\n",
       "      <th>congestion_surcharge</th>\n",
       "      <th>airport_fee</th>\n",
       "    </tr>\n",
       "  </thead>\n",
       "  <tbody>\n",
       "  </tbody>\n",
       "</table>\n",
       "</div>"
      ],
      "text/plain": [
       "Empty DataFrame\n",
       "Columns: [tpep_pickup_datetime, tpep_dropoff_datetime, passenger_count, trip_distance, RatecodeID, PULocationID, DOLocationID, payment_type, fare_amount, extra, tip_amount, congestion_surcharge, airport_fee]\n",
       "Index: []"
      ]
     },
     "metadata": {},
     "output_type": "display_data"
    }
   ],
   "source": [
    "# Display the rows with null values\n",
    "display(df.loc[df['passenger_count'].isin([np.nan, 0])])\n",
    "# Impute NaN values in 'passenger_count'\n",
    "# As the passenger_count column has discreet values, we will use the median to fill in the missing and 0 values (impossible to have 0 passenger)\n",
    "df['passenger_count'] = df['passenger_count'].fillna(df['passenger_count'].median())\n",
    "df.loc[df['passenger_count'] == 0, 'passenger_count'] = df['passenger_count'].median()\n",
    "display(df.loc[df['passenger_count'].isin([np.nan, 0])])\n"
   ]
  },
  {
   "cell_type": "markdown",
   "metadata": {
    "id": "hIPCyR6UCw0c"
   },
   "source": [
    "Did you find zeroes in passenger_count? Handle these."
   ]
  },
  {
   "cell_type": "markdown",
   "metadata": {
    "id": "IUr4fwkjBUTQ"
   },
   "source": [
    "**2.2.3**  <font color = red>[2 marks]</font> <br>\n",
    "Handle missing values in `RatecodeID`"
   ]
  },
  {
   "cell_type": "code",
   "execution_count": 22,
   "metadata": {
    "id": "qEgFxytzBkrB"
   },
   "outputs": [
    {
     "data": {
      "text/html": [
       "<div>\n",
       "<style scoped>\n",
       "    .dataframe tbody tr th:only-of-type {\n",
       "        vertical-align: middle;\n",
       "    }\n",
       "\n",
       "    .dataframe tbody tr th {\n",
       "        vertical-align: top;\n",
       "    }\n",
       "\n",
       "    .dataframe thead th {\n",
       "        text-align: right;\n",
       "    }\n",
       "</style>\n",
       "<table border=\"1\" class=\"dataframe\">\n",
       "  <thead>\n",
       "    <tr style=\"text-align: right;\">\n",
       "      <th></th>\n",
       "      <th>tpep_pickup_datetime</th>\n",
       "      <th>tpep_dropoff_datetime</th>\n",
       "      <th>passenger_count</th>\n",
       "      <th>trip_distance</th>\n",
       "      <th>RatecodeID</th>\n",
       "      <th>PULocationID</th>\n",
       "      <th>DOLocationID</th>\n",
       "      <th>payment_type</th>\n",
       "      <th>fare_amount</th>\n",
       "      <th>extra</th>\n",
       "      <th>tip_amount</th>\n",
       "      <th>congestion_surcharge</th>\n",
       "      <th>airport_fee</th>\n",
       "    </tr>\n",
       "  </thead>\n",
       "  <tbody>\n",
       "    <tr>\n",
       "      <th>3</th>\n",
       "      <td>2023-01-01 00:54:00</td>\n",
       "      <td>2023-01-01 01:27:00</td>\n",
       "      <td>1.000000</td>\n",
       "      <td>0.240000</td>\n",
       "      <td>NaN</td>\n",
       "      <td>143</td>\n",
       "      <td>148</td>\n",
       "      <td>0</td>\n",
       "      <td>36.440000</td>\n",
       "      <td>0.000000</td>\n",
       "      <td>8.090000</td>\n",
       "      <td>NaN</td>\n",
       "      <td>NaN</td>\n",
       "    </tr>\n",
       "    <tr>\n",
       "      <th>5</th>\n",
       "      <td>2023-01-01 00:51:10</td>\n",
       "      <td>2023-01-01 01:21:38</td>\n",
       "      <td>1.000000</td>\n",
       "      <td>13.150000</td>\n",
       "      <td>NaN</td>\n",
       "      <td>225</td>\n",
       "      <td>74</td>\n",
       "      <td>0</td>\n",
       "      <td>50.810000</td>\n",
       "      <td>0.000000</td>\n",
       "      <td>11.770000</td>\n",
       "      <td>NaN</td>\n",
       "      <td>NaN</td>\n",
       "    </tr>\n",
       "    <tr>\n",
       "      <th>8</th>\n",
       "      <td>2023-01-01 00:39:00</td>\n",
       "      <td>2023-01-01 01:07:00</td>\n",
       "      <td>1.000000</td>\n",
       "      <td>5.980000</td>\n",
       "      <td>NaN</td>\n",
       "      <td>148</td>\n",
       "      <td>239</td>\n",
       "      <td>0</td>\n",
       "      <td>37.400000</td>\n",
       "      <td>0.000000</td>\n",
       "      <td>8.280000</td>\n",
       "      <td>NaN</td>\n",
       "      <td>NaN</td>\n",
       "    </tr>\n",
       "    <tr>\n",
       "      <th>11</th>\n",
       "      <td>2023-01-01 00:41:00</td>\n",
       "      <td>2023-01-01 00:55:00</td>\n",
       "      <td>1.000000</td>\n",
       "      <td>3.430000</td>\n",
       "      <td>NaN</td>\n",
       "      <td>162</td>\n",
       "      <td>193</td>\n",
       "      <td>0</td>\n",
       "      <td>16.630000</td>\n",
       "      <td>0.000000</td>\n",
       "      <td>3.090000</td>\n",
       "      <td>NaN</td>\n",
       "      <td>NaN</td>\n",
       "    </tr>\n",
       "    <tr>\n",
       "      <th>22</th>\n",
       "      <td>2023-01-01 00:53:47</td>\n",
       "      <td>2023-01-01 01:24:13</td>\n",
       "      <td>1.000000</td>\n",
       "      <td>9.520000</td>\n",
       "      <td>NaN</td>\n",
       "      <td>127</td>\n",
       "      <td>50</td>\n",
       "      <td>0</td>\n",
       "      <td>43.600000</td>\n",
       "      <td>0.000000</td>\n",
       "      <td>9.520000</td>\n",
       "      <td>NaN</td>\n",
       "      <td>NaN</td>\n",
       "    </tr>\n",
       "    <tr>\n",
       "      <th>...</th>\n",
       "      <td>...</td>\n",
       "      <td>...</td>\n",
       "      <td>...</td>\n",
       "      <td>...</td>\n",
       "      <td>...</td>\n",
       "      <td>...</td>\n",
       "      <td>...</td>\n",
       "      <td>...</td>\n",
       "      <td>...</td>\n",
       "      <td>...</td>\n",
       "      <td>...</td>\n",
       "      <td>...</td>\n",
       "      <td>...</td>\n",
       "    </tr>\n",
       "    <tr>\n",
       "      <th>268111</th>\n",
       "      <td>2023-12-31 05:48:30</td>\n",
       "      <td>2023-12-31 05:57:40</td>\n",
       "      <td>1.000000</td>\n",
       "      <td>3.190000</td>\n",
       "      <td>NaN</td>\n",
       "      <td>48</td>\n",
       "      <td>24</td>\n",
       "      <td>0</td>\n",
       "      <td>0.590000</td>\n",
       "      <td>0.000000</td>\n",
       "      <td>0.000000</td>\n",
       "      <td>NaN</td>\n",
       "      <td>NaN</td>\n",
       "    </tr>\n",
       "    <tr>\n",
       "      <th>268117</th>\n",
       "      <td>2023-12-31 06:44:16</td>\n",
       "      <td>2023-12-31 06:52:03</td>\n",
       "      <td>1.000000</td>\n",
       "      <td>0.000000</td>\n",
       "      <td>NaN</td>\n",
       "      <td>75</td>\n",
       "      <td>74</td>\n",
       "      <td>0</td>\n",
       "      <td>6.830000</td>\n",
       "      <td>0.000000</td>\n",
       "      <td>0.000000</td>\n",
       "      <td>NaN</td>\n",
       "      <td>NaN</td>\n",
       "    </tr>\n",
       "    <tr>\n",
       "      <th>268125</th>\n",
       "      <td>2023-12-31 08:45:53</td>\n",
       "      <td>2023-12-31 08:54:22</td>\n",
       "      <td>1.000000</td>\n",
       "      <td>1.600000</td>\n",
       "      <td>99.000000</td>\n",
       "      <td>183</td>\n",
       "      <td>242</td>\n",
       "      <td>1</td>\n",
       "      <td>17.500000</td>\n",
       "      <td>0.000000</td>\n",
       "      <td>0.000000</td>\n",
       "      <td>0.000000</td>\n",
       "      <td>0.000000</td>\n",
       "    </tr>\n",
       "    <tr>\n",
       "      <th>268145</th>\n",
       "      <td>2023-12-31 09:49:26</td>\n",
       "      <td>2023-12-31 10:25:41</td>\n",
       "      <td>1.000000</td>\n",
       "      <td>20.900000</td>\n",
       "      <td>99.000000</td>\n",
       "      <td>259</td>\n",
       "      <td>124</td>\n",
       "      <td>1</td>\n",
       "      <td>75.500000</td>\n",
       "      <td>0.000000</td>\n",
       "      <td>0.000000</td>\n",
       "      <td>0.000000</td>\n",
       "      <td>0.000000</td>\n",
       "    </tr>\n",
       "    <tr>\n",
       "      <th>268148</th>\n",
       "      <td>2023-12-31 09:10:03</td>\n",
       "      <td>2023-12-31 09:52:12</td>\n",
       "      <td>1.000000</td>\n",
       "      <td>1.100000</td>\n",
       "      <td>99.000000</td>\n",
       "      <td>50</td>\n",
       "      <td>186</td>\n",
       "      <td>1</td>\n",
       "      <td>17.500000</td>\n",
       "      <td>0.000000</td>\n",
       "      <td>0.000000</td>\n",
       "      <td>0.000000</td>\n",
       "      <td>0.000000</td>\n",
       "    </tr>\n",
       "  </tbody>\n",
       "</table>\n",
       "<p>10748 rows × 13 columns</p>\n",
       "</div>"
      ],
      "text/plain": [
       "       tpep_pickup_datetime tpep_dropoff_datetime  passenger_count  \\\n",
       "3       2023-01-01 00:54:00   2023-01-01 01:27:00         1.000000   \n",
       "5       2023-01-01 00:51:10   2023-01-01 01:21:38         1.000000   \n",
       "8       2023-01-01 00:39:00   2023-01-01 01:07:00         1.000000   \n",
       "11      2023-01-01 00:41:00   2023-01-01 00:55:00         1.000000   \n",
       "22      2023-01-01 00:53:47   2023-01-01 01:24:13         1.000000   \n",
       "...                     ...                   ...              ...   \n",
       "268111  2023-12-31 05:48:30   2023-12-31 05:57:40         1.000000   \n",
       "268117  2023-12-31 06:44:16   2023-12-31 06:52:03         1.000000   \n",
       "268125  2023-12-31 08:45:53   2023-12-31 08:54:22         1.000000   \n",
       "268145  2023-12-31 09:49:26   2023-12-31 10:25:41         1.000000   \n",
       "268148  2023-12-31 09:10:03   2023-12-31 09:52:12         1.000000   \n",
       "\n",
       "        trip_distance  RatecodeID  PULocationID  DOLocationID  payment_type  \\\n",
       "3            0.240000         NaN           143           148             0   \n",
       "5           13.150000         NaN           225            74             0   \n",
       "8            5.980000         NaN           148           239             0   \n",
       "11           3.430000         NaN           162           193             0   \n",
       "22           9.520000         NaN           127            50             0   \n",
       "...               ...         ...           ...           ...           ...   \n",
       "268111       3.190000         NaN            48            24             0   \n",
       "268117       0.000000         NaN            75            74             0   \n",
       "268125       1.600000   99.000000           183           242             1   \n",
       "268145      20.900000   99.000000           259           124             1   \n",
       "268148       1.100000   99.000000            50           186             1   \n",
       "\n",
       "        fare_amount    extra  tip_amount  congestion_surcharge  airport_fee  \n",
       "3         36.440000 0.000000    8.090000                   NaN          NaN  \n",
       "5         50.810000 0.000000   11.770000                   NaN          NaN  \n",
       "8         37.400000 0.000000    8.280000                   NaN          NaN  \n",
       "11        16.630000 0.000000    3.090000                   NaN          NaN  \n",
       "22        43.600000 0.000000    9.520000                   NaN          NaN  \n",
       "...             ...      ...         ...                   ...          ...  \n",
       "268111     0.590000 0.000000    0.000000                   NaN          NaN  \n",
       "268117     6.830000 0.000000    0.000000                   NaN          NaN  \n",
       "268125    17.500000 0.000000    0.000000              0.000000     0.000000  \n",
       "268145    75.500000 0.000000    0.000000              0.000000     0.000000  \n",
       "268148    17.500000 0.000000    0.000000              0.000000     0.000000  \n",
       "\n",
       "[10748 rows x 13 columns]"
      ]
     },
     "metadata": {},
     "output_type": "display_data"
    },
    {
     "data": {
      "text/html": [
       "<div>\n",
       "<style scoped>\n",
       "    .dataframe tbody tr th:only-of-type {\n",
       "        vertical-align: middle;\n",
       "    }\n",
       "\n",
       "    .dataframe tbody tr th {\n",
       "        vertical-align: top;\n",
       "    }\n",
       "\n",
       "    .dataframe thead th {\n",
       "        text-align: right;\n",
       "    }\n",
       "</style>\n",
       "<table border=\"1\" class=\"dataframe\">\n",
       "  <thead>\n",
       "    <tr style=\"text-align: right;\">\n",
       "      <th></th>\n",
       "      <th>tpep_pickup_datetime</th>\n",
       "      <th>tpep_dropoff_datetime</th>\n",
       "      <th>passenger_count</th>\n",
       "      <th>trip_distance</th>\n",
       "      <th>RatecodeID</th>\n",
       "      <th>PULocationID</th>\n",
       "      <th>DOLocationID</th>\n",
       "      <th>payment_type</th>\n",
       "      <th>fare_amount</th>\n",
       "      <th>extra</th>\n",
       "      <th>tip_amount</th>\n",
       "      <th>congestion_surcharge</th>\n",
       "      <th>airport_fee</th>\n",
       "    </tr>\n",
       "  </thead>\n",
       "  <tbody>\n",
       "  </tbody>\n",
       "</table>\n",
       "</div>"
      ],
      "text/plain": [
       "Empty DataFrame\n",
       "Columns: [tpep_pickup_datetime, tpep_dropoff_datetime, passenger_count, trip_distance, RatecodeID, PULocationID, DOLocationID, payment_type, fare_amount, extra, tip_amount, congestion_surcharge, airport_fee]\n",
       "Index: []"
      ]
     },
     "metadata": {},
     "output_type": "display_data"
    }
   ],
   "source": [
    "# Fix missing values in 'RatecodeID'\n",
    "display(df.loc[df['RatecodeID'].isin([np.nan, 99])])\n",
    "# As the RatecodeID has discreet values, we will use the median to fill in the missing and 99 values (99 equals to Null/unknown)\n",
    "df['RatecodeID'] = df['RatecodeID'].fillna(df['RatecodeID'].median())\n",
    "df.loc[df['RatecodeID'] == 99, 'RatecodeID'] = df['RatecodeID'].median()\n",
    "display(df.loc[df['RatecodeID'].isin([np.nan, 99])])"
   ]
  },
  {
   "cell_type": "markdown",
   "metadata": {
    "id": "0TjHXzuODCUW"
   },
   "source": [
    "**2.2.4**  <font color = red>[3 marks]</font> <br>\n",
    "Impute NaN in `congestion_surcharge`"
   ]
  },
  {
   "cell_type": "code",
   "execution_count": 23,
   "metadata": {
    "id": "HqnabUGC3xOA"
   },
   "outputs": [
    {
     "data": {
      "text/html": [
       "<div>\n",
       "<style scoped>\n",
       "    .dataframe tbody tr th:only-of-type {\n",
       "        vertical-align: middle;\n",
       "    }\n",
       "\n",
       "    .dataframe tbody tr th {\n",
       "        vertical-align: top;\n",
       "    }\n",
       "\n",
       "    .dataframe thead th {\n",
       "        text-align: right;\n",
       "    }\n",
       "</style>\n",
       "<table border=\"1\" class=\"dataframe\">\n",
       "  <thead>\n",
       "    <tr style=\"text-align: right;\">\n",
       "      <th></th>\n",
       "      <th>tpep_pickup_datetime</th>\n",
       "      <th>tpep_dropoff_datetime</th>\n",
       "      <th>passenger_count</th>\n",
       "      <th>trip_distance</th>\n",
       "      <th>RatecodeID</th>\n",
       "      <th>PULocationID</th>\n",
       "      <th>DOLocationID</th>\n",
       "      <th>payment_type</th>\n",
       "      <th>fare_amount</th>\n",
       "      <th>extra</th>\n",
       "      <th>tip_amount</th>\n",
       "      <th>congestion_surcharge</th>\n",
       "      <th>airport_fee</th>\n",
       "    </tr>\n",
       "  </thead>\n",
       "  <tbody>\n",
       "    <tr>\n",
       "      <th>3</th>\n",
       "      <td>2023-01-01 00:54:00</td>\n",
       "      <td>2023-01-01 01:27:00</td>\n",
       "      <td>1.000000</td>\n",
       "      <td>0.240000</td>\n",
       "      <td>1.000000</td>\n",
       "      <td>143</td>\n",
       "      <td>148</td>\n",
       "      <td>0</td>\n",
       "      <td>36.440000</td>\n",
       "      <td>0.000000</td>\n",
       "      <td>8.090000</td>\n",
       "      <td>NaN</td>\n",
       "      <td>NaN</td>\n",
       "    </tr>\n",
       "    <tr>\n",
       "      <th>5</th>\n",
       "      <td>2023-01-01 00:51:10</td>\n",
       "      <td>2023-01-01 01:21:38</td>\n",
       "      <td>1.000000</td>\n",
       "      <td>13.150000</td>\n",
       "      <td>1.000000</td>\n",
       "      <td>225</td>\n",
       "      <td>74</td>\n",
       "      <td>0</td>\n",
       "      <td>50.810000</td>\n",
       "      <td>0.000000</td>\n",
       "      <td>11.770000</td>\n",
       "      <td>NaN</td>\n",
       "      <td>NaN</td>\n",
       "    </tr>\n",
       "    <tr>\n",
       "      <th>8</th>\n",
       "      <td>2023-01-01 00:39:00</td>\n",
       "      <td>2023-01-01 01:07:00</td>\n",
       "      <td>1.000000</td>\n",
       "      <td>5.980000</td>\n",
       "      <td>1.000000</td>\n",
       "      <td>148</td>\n",
       "      <td>239</td>\n",
       "      <td>0</td>\n",
       "      <td>37.400000</td>\n",
       "      <td>0.000000</td>\n",
       "      <td>8.280000</td>\n",
       "      <td>NaN</td>\n",
       "      <td>NaN</td>\n",
       "    </tr>\n",
       "    <tr>\n",
       "      <th>11</th>\n",
       "      <td>2023-01-01 00:41:00</td>\n",
       "      <td>2023-01-01 00:55:00</td>\n",
       "      <td>1.000000</td>\n",
       "      <td>3.430000</td>\n",
       "      <td>1.000000</td>\n",
       "      <td>162</td>\n",
       "      <td>193</td>\n",
       "      <td>0</td>\n",
       "      <td>16.630000</td>\n",
       "      <td>0.000000</td>\n",
       "      <td>3.090000</td>\n",
       "      <td>NaN</td>\n",
       "      <td>NaN</td>\n",
       "    </tr>\n",
       "    <tr>\n",
       "      <th>22</th>\n",
       "      <td>2023-01-01 00:53:47</td>\n",
       "      <td>2023-01-01 01:24:13</td>\n",
       "      <td>1.000000</td>\n",
       "      <td>9.520000</td>\n",
       "      <td>1.000000</td>\n",
       "      <td>127</td>\n",
       "      <td>50</td>\n",
       "      <td>0</td>\n",
       "      <td>43.600000</td>\n",
       "      <td>0.000000</td>\n",
       "      <td>9.520000</td>\n",
       "      <td>NaN</td>\n",
       "      <td>NaN</td>\n",
       "    </tr>\n",
       "    <tr>\n",
       "      <th>...</th>\n",
       "      <td>...</td>\n",
       "      <td>...</td>\n",
       "      <td>...</td>\n",
       "      <td>...</td>\n",
       "      <td>...</td>\n",
       "      <td>...</td>\n",
       "      <td>...</td>\n",
       "      <td>...</td>\n",
       "      <td>...</td>\n",
       "      <td>...</td>\n",
       "      <td>...</td>\n",
       "      <td>...</td>\n",
       "      <td>...</td>\n",
       "    </tr>\n",
       "    <tr>\n",
       "      <th>268104</th>\n",
       "      <td>2023-12-31 04:14:15</td>\n",
       "      <td>2023-12-31 04:27:41</td>\n",
       "      <td>1.000000</td>\n",
       "      <td>3.780000</td>\n",
       "      <td>1.000000</td>\n",
       "      <td>90</td>\n",
       "      <td>140</td>\n",
       "      <td>0</td>\n",
       "      <td>18.350000</td>\n",
       "      <td>0.000000</td>\n",
       "      <td>0.000000</td>\n",
       "      <td>NaN</td>\n",
       "      <td>NaN</td>\n",
       "    </tr>\n",
       "    <tr>\n",
       "      <th>268106</th>\n",
       "      <td>2023-12-31 04:19:19</td>\n",
       "      <td>2023-12-31 05:06:37</td>\n",
       "      <td>1.000000</td>\n",
       "      <td>11.810000</td>\n",
       "      <td>1.000000</td>\n",
       "      <td>61</td>\n",
       "      <td>144</td>\n",
       "      <td>0</td>\n",
       "      <td>37.940000</td>\n",
       "      <td>0.000000</td>\n",
       "      <td>0.000000</td>\n",
       "      <td>NaN</td>\n",
       "      <td>NaN</td>\n",
       "    </tr>\n",
       "    <tr>\n",
       "      <th>268107</th>\n",
       "      <td>2023-12-31 04:30:04</td>\n",
       "      <td>2023-12-31 04:49:39</td>\n",
       "      <td>1.000000</td>\n",
       "      <td>4.590000</td>\n",
       "      <td>1.000000</td>\n",
       "      <td>90</td>\n",
       "      <td>41</td>\n",
       "      <td>0</td>\n",
       "      <td>23.940000</td>\n",
       "      <td>0.000000</td>\n",
       "      <td>0.000000</td>\n",
       "      <td>NaN</td>\n",
       "      <td>NaN</td>\n",
       "    </tr>\n",
       "    <tr>\n",
       "      <th>268111</th>\n",
       "      <td>2023-12-31 05:48:30</td>\n",
       "      <td>2023-12-31 05:57:40</td>\n",
       "      <td>1.000000</td>\n",
       "      <td>3.190000</td>\n",
       "      <td>1.000000</td>\n",
       "      <td>48</td>\n",
       "      <td>24</td>\n",
       "      <td>0</td>\n",
       "      <td>0.590000</td>\n",
       "      <td>0.000000</td>\n",
       "      <td>0.000000</td>\n",
       "      <td>NaN</td>\n",
       "      <td>NaN</td>\n",
       "    </tr>\n",
       "    <tr>\n",
       "      <th>268117</th>\n",
       "      <td>2023-12-31 06:44:16</td>\n",
       "      <td>2023-12-31 06:52:03</td>\n",
       "      <td>1.000000</td>\n",
       "      <td>0.000000</td>\n",
       "      <td>1.000000</td>\n",
       "      <td>75</td>\n",
       "      <td>74</td>\n",
       "      <td>0</td>\n",
       "      <td>6.830000</td>\n",
       "      <td>0.000000</td>\n",
       "      <td>0.000000</td>\n",
       "      <td>NaN</td>\n",
       "      <td>NaN</td>\n",
       "    </tr>\n",
       "  </tbody>\n",
       "</table>\n",
       "<p>9205 rows × 13 columns</p>\n",
       "</div>"
      ],
      "text/plain": [
       "       tpep_pickup_datetime tpep_dropoff_datetime  passenger_count  \\\n",
       "3       2023-01-01 00:54:00   2023-01-01 01:27:00         1.000000   \n",
       "5       2023-01-01 00:51:10   2023-01-01 01:21:38         1.000000   \n",
       "8       2023-01-01 00:39:00   2023-01-01 01:07:00         1.000000   \n",
       "11      2023-01-01 00:41:00   2023-01-01 00:55:00         1.000000   \n",
       "22      2023-01-01 00:53:47   2023-01-01 01:24:13         1.000000   \n",
       "...                     ...                   ...              ...   \n",
       "268104  2023-12-31 04:14:15   2023-12-31 04:27:41         1.000000   \n",
       "268106  2023-12-31 04:19:19   2023-12-31 05:06:37         1.000000   \n",
       "268107  2023-12-31 04:30:04   2023-12-31 04:49:39         1.000000   \n",
       "268111  2023-12-31 05:48:30   2023-12-31 05:57:40         1.000000   \n",
       "268117  2023-12-31 06:44:16   2023-12-31 06:52:03         1.000000   \n",
       "\n",
       "        trip_distance  RatecodeID  PULocationID  DOLocationID  payment_type  \\\n",
       "3            0.240000    1.000000           143           148             0   \n",
       "5           13.150000    1.000000           225            74             0   \n",
       "8            5.980000    1.000000           148           239             0   \n",
       "11           3.430000    1.000000           162           193             0   \n",
       "22           9.520000    1.000000           127            50             0   \n",
       "...               ...         ...           ...           ...           ...   \n",
       "268104       3.780000    1.000000            90           140             0   \n",
       "268106      11.810000    1.000000            61           144             0   \n",
       "268107       4.590000    1.000000            90            41             0   \n",
       "268111       3.190000    1.000000            48            24             0   \n",
       "268117       0.000000    1.000000            75            74             0   \n",
       "\n",
       "        fare_amount    extra  tip_amount  congestion_surcharge  airport_fee  \n",
       "3         36.440000 0.000000    8.090000                   NaN          NaN  \n",
       "5         50.810000 0.000000   11.770000                   NaN          NaN  \n",
       "8         37.400000 0.000000    8.280000                   NaN          NaN  \n",
       "11        16.630000 0.000000    3.090000                   NaN          NaN  \n",
       "22        43.600000 0.000000    9.520000                   NaN          NaN  \n",
       "...             ...      ...         ...                   ...          ...  \n",
       "268104    18.350000 0.000000    0.000000                   NaN          NaN  \n",
       "268106    37.940000 0.000000    0.000000                   NaN          NaN  \n",
       "268107    23.940000 0.000000    0.000000                   NaN          NaN  \n",
       "268111     0.590000 0.000000    0.000000                   NaN          NaN  \n",
       "268117     6.830000 0.000000    0.000000                   NaN          NaN  \n",
       "\n",
       "[9205 rows x 13 columns]"
      ]
     },
     "metadata": {},
     "output_type": "display_data"
    },
    {
     "data": {
      "text/html": [
       "<div>\n",
       "<style scoped>\n",
       "    .dataframe tbody tr th:only-of-type {\n",
       "        vertical-align: middle;\n",
       "    }\n",
       "\n",
       "    .dataframe tbody tr th {\n",
       "        vertical-align: top;\n",
       "    }\n",
       "\n",
       "    .dataframe thead th {\n",
       "        text-align: right;\n",
       "    }\n",
       "</style>\n",
       "<table border=\"1\" class=\"dataframe\">\n",
       "  <thead>\n",
       "    <tr style=\"text-align: right;\">\n",
       "      <th></th>\n",
       "      <th>tpep_pickup_datetime</th>\n",
       "      <th>tpep_dropoff_datetime</th>\n",
       "      <th>passenger_count</th>\n",
       "      <th>trip_distance</th>\n",
       "      <th>RatecodeID</th>\n",
       "      <th>PULocationID</th>\n",
       "      <th>DOLocationID</th>\n",
       "      <th>payment_type</th>\n",
       "      <th>fare_amount</th>\n",
       "      <th>extra</th>\n",
       "      <th>tip_amount</th>\n",
       "      <th>congestion_surcharge</th>\n",
       "      <th>airport_fee</th>\n",
       "    </tr>\n",
       "  </thead>\n",
       "  <tbody>\n",
       "  </tbody>\n",
       "</table>\n",
       "</div>"
      ],
      "text/plain": [
       "Empty DataFrame\n",
       "Columns: [tpep_pickup_datetime, tpep_dropoff_datetime, passenger_count, trip_distance, RatecodeID, PULocationID, DOLocationID, payment_type, fare_amount, extra, tip_amount, congestion_surcharge, airport_fee]\n",
       "Index: []"
      ]
     },
     "metadata": {},
     "output_type": "display_data"
    }
   ],
   "source": [
    "# handle null values in congestion_surcharge\n",
    "display(df.loc[df['congestion_surcharge'].isin([np.nan])])\n",
    "# As the congestion_surcharge has discreet values, we will use the median to fill in the missing values \n",
    "df['congestion_surcharge'] = df['congestion_surcharge'].fillna(df['congestion_surcharge'].median())\n",
    "display(df.loc[df['congestion_surcharge'].isin([np.nan])])\n",
    "\n"
   ]
  },
  {
   "cell_type": "markdown",
   "metadata": {
    "id": "4FZEdgAgUbPl"
   },
   "source": [
    "Are there missing values in other columns? Did you find NaN values in some other set of columns? Handle those missing values below."
   ]
  },
  {
   "cell_type": "code",
   "execution_count": 24,
   "metadata": {
    "id": "iDLpyqCRXa3K"
   },
   "outputs": [
    {
     "name": "stdout",
     "output_type": "stream",
     "text": [
      "tpep_pickup_datetime        0\n",
      "tpep_dropoff_datetime       0\n",
      "passenger_count             0\n",
      "trip_distance               0\n",
      "RatecodeID                  0\n",
      "PULocationID                0\n",
      "DOLocationID                0\n",
      "payment_type                0\n",
      "fare_amount                 0\n",
      "extra                       0\n",
      "tip_amount                  0\n",
      "congestion_surcharge        0\n",
      "airport_fee              9205\n",
      "dtype: int64\n"
     ]
    },
    {
     "data": {
      "text/html": [
       "<div>\n",
       "<style scoped>\n",
       "    .dataframe tbody tr th:only-of-type {\n",
       "        vertical-align: middle;\n",
       "    }\n",
       "\n",
       "    .dataframe tbody tr th {\n",
       "        vertical-align: top;\n",
       "    }\n",
       "\n",
       "    .dataframe thead th {\n",
       "        text-align: right;\n",
       "    }\n",
       "</style>\n",
       "<table border=\"1\" class=\"dataframe\">\n",
       "  <thead>\n",
       "    <tr style=\"text-align: right;\">\n",
       "      <th></th>\n",
       "      <th>tpep_pickup_datetime</th>\n",
       "      <th>tpep_dropoff_datetime</th>\n",
       "      <th>passenger_count</th>\n",
       "      <th>trip_distance</th>\n",
       "      <th>RatecodeID</th>\n",
       "      <th>PULocationID</th>\n",
       "      <th>DOLocationID</th>\n",
       "      <th>payment_type</th>\n",
       "      <th>fare_amount</th>\n",
       "      <th>extra</th>\n",
       "      <th>tip_amount</th>\n",
       "      <th>congestion_surcharge</th>\n",
       "      <th>airport_fee</th>\n",
       "    </tr>\n",
       "  </thead>\n",
       "  <tbody>\n",
       "  </tbody>\n",
       "</table>\n",
       "</div>"
      ],
      "text/plain": [
       "Empty DataFrame\n",
       "Columns: [tpep_pickup_datetime, tpep_dropoff_datetime, passenger_count, trip_distance, RatecodeID, PULocationID, DOLocationID, payment_type, fare_amount, extra, tip_amount, congestion_surcharge, airport_fee]\n",
       "Index: []"
      ]
     },
     "metadata": {},
     "output_type": "display_data"
    }
   ],
   "source": [
    "# Handle any remaining missing values\n",
    "print(df.isna().sum()) # Only the airport_fee column left has missing values\n",
    "# As the airport_fee has discreet values, we will use the median to fill in the missing values, similar to other columns\n",
    "df['airport_fee'] = df['airport_fee'].fillna(df['airport_fee'].median())\n",
    "display(df.loc[df['airport_fee'].isin([np.nan])])"
   ]
  },
  {
   "cell_type": "markdown",
   "metadata": {
    "id": "2jyQyYIpCztl"
   },
   "source": [
    "### **2.3** Handling Outliers\n",
    "<font color = red>[10 marks]</font> <br>"
   ]
  },
  {
   "cell_type": "markdown",
   "metadata": {
    "id": "ZoVwZzuEMTHB"
   },
   "source": [
    "Before we start fixing outliers, let's perform outlier analysis."
   ]
  },
  {
   "cell_type": "code",
   "execution_count": 25,
   "metadata": {
    "id": "zHK5K6uV8XpU"
   },
   "outputs": [
    {
     "data": {
      "text/html": [
       "<div>\n",
       "<style scoped>\n",
       "    .dataframe tbody tr th:only-of-type {\n",
       "        vertical-align: middle;\n",
       "    }\n",
       "\n",
       "    .dataframe tbody tr th {\n",
       "        vertical-align: top;\n",
       "    }\n",
       "\n",
       "    .dataframe thead th {\n",
       "        text-align: right;\n",
       "    }\n",
       "</style>\n",
       "<table border=\"1\" class=\"dataframe\">\n",
       "  <thead>\n",
       "    <tr style=\"text-align: right;\">\n",
       "      <th></th>\n",
       "      <th>tpep_pickup_datetime</th>\n",
       "      <th>tpep_dropoff_datetime</th>\n",
       "      <th>passenger_count</th>\n",
       "      <th>trip_distance</th>\n",
       "      <th>RatecodeID</th>\n",
       "      <th>PULocationID</th>\n",
       "      <th>DOLocationID</th>\n",
       "      <th>payment_type</th>\n",
       "      <th>fare_amount</th>\n",
       "      <th>extra</th>\n",
       "      <th>tip_amount</th>\n",
       "      <th>congestion_surcharge</th>\n",
       "      <th>airport_fee</th>\n",
       "    </tr>\n",
       "  </thead>\n",
       "  <tbody>\n",
       "    <tr>\n",
       "      <th>count</th>\n",
       "      <td>268150</td>\n",
       "      <td>268150</td>\n",
       "      <td>268150.000000</td>\n",
       "      <td>268150.000000</td>\n",
       "      <td>268150.000000</td>\n",
       "      <td>268150.000000</td>\n",
       "      <td>268150.000000</td>\n",
       "      <td>268150.000000</td>\n",
       "      <td>268150.000000</td>\n",
       "      <td>268150.000000</td>\n",
       "      <td>268150.000000</td>\n",
       "      <td>268150.000000</td>\n",
       "      <td>268150.000000</td>\n",
       "    </tr>\n",
       "    <tr>\n",
       "      <th>mean</th>\n",
       "      <td>2023-07-02 23:12:37.220123</td>\n",
       "      <td>2023-07-02 23:30:04.042942</td>\n",
       "      <td>1.368107</td>\n",
       "      <td>4.760124</td>\n",
       "      <td>1.074339</td>\n",
       "      <td>165.013985</td>\n",
       "      <td>163.826332</td>\n",
       "      <td>1.185113</td>\n",
       "      <td>19.897541</td>\n",
       "      <td>1.576316</td>\n",
       "      <td>3.514398</td>\n",
       "      <td>2.309998</td>\n",
       "      <td>0.138965</td>\n",
       "    </tr>\n",
       "    <tr>\n",
       "      <th>min</th>\n",
       "      <td>2023-01-01 00:05:35</td>\n",
       "      <td>2023-01-01 00:13:29</td>\n",
       "      <td>1.000000</td>\n",
       "      <td>0.000000</td>\n",
       "      <td>1.000000</td>\n",
       "      <td>1.000000</td>\n",
       "      <td>1.000000</td>\n",
       "      <td>0.000000</td>\n",
       "      <td>0.000000</td>\n",
       "      <td>0.000000</td>\n",
       "      <td>0.000000</td>\n",
       "      <td>0.000000</td>\n",
       "      <td>0.000000</td>\n",
       "    </tr>\n",
       "    <tr>\n",
       "      <th>25%</th>\n",
       "      <td>2023-04-02 18:19:47</td>\n",
       "      <td>2023-04-02 18:36:22</td>\n",
       "      <td>1.000000</td>\n",
       "      <td>1.040000</td>\n",
       "      <td>1.000000</td>\n",
       "      <td>132.000000</td>\n",
       "      <td>113.000000</td>\n",
       "      <td>1.000000</td>\n",
       "      <td>9.300000</td>\n",
       "      <td>0.000000</td>\n",
       "      <td>1.000000</td>\n",
       "      <td>2.500000</td>\n",
       "      <td>0.000000</td>\n",
       "    </tr>\n",
       "    <tr>\n",
       "      <th>50%</th>\n",
       "      <td>2023-06-27 19:08:35.500000</td>\n",
       "      <td>2023-06-27 19:22:33.500000</td>\n",
       "      <td>1.000000</td>\n",
       "      <td>1.800000</td>\n",
       "      <td>1.000000</td>\n",
       "      <td>162.000000</td>\n",
       "      <td>162.000000</td>\n",
       "      <td>1.000000</td>\n",
       "      <td>13.500000</td>\n",
       "      <td>1.000000</td>\n",
       "      <td>2.800000</td>\n",
       "      <td>2.500000</td>\n",
       "      <td>0.000000</td>\n",
       "    </tr>\n",
       "    <tr>\n",
       "      <th>75%</th>\n",
       "      <td>2023-10-06 21:59:19.750000</td>\n",
       "      <td>2023-10-06 22:14:52.500000</td>\n",
       "      <td>1.000000</td>\n",
       "      <td>3.410000</td>\n",
       "      <td>1.000000</td>\n",
       "      <td>233.000000</td>\n",
       "      <td>234.000000</td>\n",
       "      <td>1.000000</td>\n",
       "      <td>22.500000</td>\n",
       "      <td>2.500000</td>\n",
       "      <td>4.400000</td>\n",
       "      <td>2.500000</td>\n",
       "      <td>0.000000</td>\n",
       "    </tr>\n",
       "    <tr>\n",
       "      <th>max</th>\n",
       "      <td>2023-12-31 23:51:33</td>\n",
       "      <td>2024-01-01 00:37:09</td>\n",
       "      <td>8.000000</td>\n",
       "      <td>186514.090000</td>\n",
       "      <td>5.000000</td>\n",
       "      <td>265.000000</td>\n",
       "      <td>265.000000</td>\n",
       "      <td>4.000000</td>\n",
       "      <td>740.800000</td>\n",
       "      <td>14.250000</td>\n",
       "      <td>482.900000</td>\n",
       "      <td>2.500000</td>\n",
       "      <td>1.750000</td>\n",
       "    </tr>\n",
       "    <tr>\n",
       "      <th>std</th>\n",
       "      <td>NaN</td>\n",
       "      <td>NaN</td>\n",
       "      <td>0.855609</td>\n",
       "      <td>389.931481</td>\n",
       "      <td>0.398160</td>\n",
       "      <td>63.947821</td>\n",
       "      <td>69.873948</td>\n",
       "      <td>0.556633</td>\n",
       "      <td>18.396595</td>\n",
       "      <td>1.824856</td>\n",
       "      <td>4.171308</td>\n",
       "      <td>0.662495</td>\n",
       "      <td>0.458904</td>\n",
       "    </tr>\n",
       "  </tbody>\n",
       "</table>\n",
       "</div>"
      ],
      "text/plain": [
       "             tpep_pickup_datetime       tpep_dropoff_datetime  \\\n",
       "count                      268150                      268150   \n",
       "mean   2023-07-02 23:12:37.220123  2023-07-02 23:30:04.042942   \n",
       "min           2023-01-01 00:05:35         2023-01-01 00:13:29   \n",
       "25%           2023-04-02 18:19:47         2023-04-02 18:36:22   \n",
       "50%    2023-06-27 19:08:35.500000  2023-06-27 19:22:33.500000   \n",
       "75%    2023-10-06 21:59:19.750000  2023-10-06 22:14:52.500000   \n",
       "max           2023-12-31 23:51:33         2024-01-01 00:37:09   \n",
       "std                           NaN                         NaN   \n",
       "\n",
       "       passenger_count  trip_distance    RatecodeID  PULocationID  \\\n",
       "count    268150.000000  268150.000000 268150.000000 268150.000000   \n",
       "mean          1.368107       4.760124      1.074339    165.013985   \n",
       "min           1.000000       0.000000      1.000000      1.000000   \n",
       "25%           1.000000       1.040000      1.000000    132.000000   \n",
       "50%           1.000000       1.800000      1.000000    162.000000   \n",
       "75%           1.000000       3.410000      1.000000    233.000000   \n",
       "max           8.000000  186514.090000      5.000000    265.000000   \n",
       "std           0.855609     389.931481      0.398160     63.947821   \n",
       "\n",
       "       DOLocationID  payment_type   fare_amount         extra    tip_amount  \\\n",
       "count 268150.000000 268150.000000 268150.000000 268150.000000 268150.000000   \n",
       "mean     163.826332      1.185113     19.897541      1.576316      3.514398   \n",
       "min        1.000000      0.000000      0.000000      0.000000      0.000000   \n",
       "25%      113.000000      1.000000      9.300000      0.000000      1.000000   \n",
       "50%      162.000000      1.000000     13.500000      1.000000      2.800000   \n",
       "75%      234.000000      1.000000     22.500000      2.500000      4.400000   \n",
       "max      265.000000      4.000000    740.800000     14.250000    482.900000   \n",
       "std       69.873948      0.556633     18.396595      1.824856      4.171308   \n",
       "\n",
       "       congestion_surcharge   airport_fee  \n",
       "count         268150.000000 268150.000000  \n",
       "mean               2.309998      0.138965  \n",
       "min                0.000000      0.000000  \n",
       "25%                2.500000      0.000000  \n",
       "50%                2.500000      0.000000  \n",
       "75%                2.500000      0.000000  \n",
       "max                2.500000      1.750000  \n",
       "std                0.662495      0.458904  "
      ]
     },
     "metadata": {},
     "output_type": "display_data"
    },
    {
     "name": "stdout",
     "output_type": "stream",
     "text": [
      "268150\n"
     ]
    }
   ],
   "source": [
    "# Describe the data and check if there are any potential outliers present\n",
    "display(df.describe())\n",
    "print(df.shape[0])\n",
    "\n",
    "# From a quick glance, seems like there are some extreme values in the trip_distance, fare_amount, and tip_amount column\n",
    "\n",
    "\n",
    "# Check for potential out of place values in various columns"
   ]
  },
  {
   "cell_type": "code",
   "execution_count": 47,
   "metadata": {},
   "outputs": [
    {
     "data": {
      "text/html": [
       "<div>\n",
       "<style scoped>\n",
       "    .dataframe tbody tr th:only-of-type {\n",
       "        vertical-align: middle;\n",
       "    }\n",
       "\n",
       "    .dataframe tbody tr th {\n",
       "        vertical-align: top;\n",
       "    }\n",
       "\n",
       "    .dataframe thead th {\n",
       "        text-align: right;\n",
       "    }\n",
       "</style>\n",
       "<table border=\"1\" class=\"dataframe\">\n",
       "  <thead>\n",
       "    <tr style=\"text-align: right;\">\n",
       "      <th></th>\n",
       "      <th>tpep_pickup_datetime</th>\n",
       "      <th>tpep_dropoff_datetime</th>\n",
       "      <th>passenger_count</th>\n",
       "      <th>trip_distance</th>\n",
       "      <th>RatecodeID</th>\n",
       "      <th>PULocationID</th>\n",
       "      <th>DOLocationID</th>\n",
       "      <th>payment_type</th>\n",
       "      <th>fare_amount</th>\n",
       "      <th>extra</th>\n",
       "      <th>tip_amount</th>\n",
       "      <th>congestion_surcharge</th>\n",
       "      <th>airport_fee</th>\n",
       "      <th>avg_rate</th>\n",
       "      <th>trip_duration</th>\n",
       "      <th>tip_percentage</th>\n",
       "    </tr>\n",
       "  </thead>\n",
       "  <tbody>\n",
       "    <tr>\n",
       "      <th>0</th>\n",
       "      <td>2023-01-01 00:23:23</td>\n",
       "      <td>2023-01-01 00:45:35</td>\n",
       "      <td>1.000000</td>\n",
       "      <td>5.400000</td>\n",
       "      <td>1.000000</td>\n",
       "      <td>239</td>\n",
       "      <td>107</td>\n",
       "      <td>1</td>\n",
       "      <td>25.400000</td>\n",
       "      <td>3.500000</td>\n",
       "      <td>7.550000</td>\n",
       "      <td>2.500000</td>\n",
       "      <td>0.000000</td>\n",
       "      <td>4.703704</td>\n",
       "      <td>22.200000</td>\n",
       "      <td>0.3</td>\n",
       "    </tr>\n",
       "    <tr>\n",
       "      <th>1</th>\n",
       "      <td>2023-01-01 00:21:57</td>\n",
       "      <td>2023-01-01 00:32:21</td>\n",
       "      <td>1.000000</td>\n",
       "      <td>1.470000</td>\n",
       "      <td>1.000000</td>\n",
       "      <td>141</td>\n",
       "      <td>141</td>\n",
       "      <td>2</td>\n",
       "      <td>11.400000</td>\n",
       "      <td>1.000000</td>\n",
       "      <td>0.000000</td>\n",
       "      <td>2.500000</td>\n",
       "      <td>0.000000</td>\n",
       "      <td>7.755102</td>\n",
       "      <td>10.400000</td>\n",
       "      <td>0</td>\n",
       "    </tr>\n",
       "    <tr>\n",
       "      <th>2</th>\n",
       "      <td>2023-01-01 00:55:12</td>\n",
       "      <td>2023-01-02 00:52:12</td>\n",
       "      <td>1.000000</td>\n",
       "      <td>3.430000</td>\n",
       "      <td>1.000000</td>\n",
       "      <td>170</td>\n",
       "      <td>239</td>\n",
       "      <td>2</td>\n",
       "      <td>21.200000</td>\n",
       "      <td>1.000000</td>\n",
       "      <td>0.000000</td>\n",
       "      <td>2.500000</td>\n",
       "      <td>0.000000</td>\n",
       "      <td>6.180758</td>\n",
       "      <td>1437.000000</td>\n",
       "      <td>0</td>\n",
       "    </tr>\n",
       "    <tr>\n",
       "      <th>3</th>\n",
       "      <td>2023-01-01 00:54:00</td>\n",
       "      <td>2023-01-01 01:27:00</td>\n",
       "      <td>1.000000</td>\n",
       "      <td>0.240000</td>\n",
       "      <td>1.000000</td>\n",
       "      <td>143</td>\n",
       "      <td>148</td>\n",
       "      <td>0</td>\n",
       "      <td>36.440000</td>\n",
       "      <td>0.000000</td>\n",
       "      <td>8.090000</td>\n",
       "      <td>2.500000</td>\n",
       "      <td>0.000000</td>\n",
       "      <td>151.833333</td>\n",
       "      <td>33.000000</td>\n",
       "      <td>0.22</td>\n",
       "    </tr>\n",
       "    <tr>\n",
       "      <th>4</th>\n",
       "      <td>2023-01-01 00:12:09</td>\n",
       "      <td>2023-01-01 00:36:30</td>\n",
       "      <td>1.000000</td>\n",
       "      <td>4.400000</td>\n",
       "      <td>1.000000</td>\n",
       "      <td>239</td>\n",
       "      <td>90</td>\n",
       "      <td>1</td>\n",
       "      <td>25.400000</td>\n",
       "      <td>3.500000</td>\n",
       "      <td>6.050000</td>\n",
       "      <td>2.500000</td>\n",
       "      <td>0.000000</td>\n",
       "      <td>5.772727</td>\n",
       "      <td>24.350000</td>\n",
       "      <td>0.24</td>\n",
       "    </tr>\n",
       "    <tr>\n",
       "      <th>...</th>\n",
       "      <td>...</td>\n",
       "      <td>...</td>\n",
       "      <td>...</td>\n",
       "      <td>...</td>\n",
       "      <td>...</td>\n",
       "      <td>...</td>\n",
       "      <td>...</td>\n",
       "      <td>...</td>\n",
       "      <td>...</td>\n",
       "      <td>...</td>\n",
       "      <td>...</td>\n",
       "      <td>...</td>\n",
       "      <td>...</td>\n",
       "      <td>...</td>\n",
       "      <td>...</td>\n",
       "      <td>...</td>\n",
       "    </tr>\n",
       "    <tr>\n",
       "      <th>268145</th>\n",
       "      <td>2023-12-31 09:49:26</td>\n",
       "      <td>2023-12-31 10:25:41</td>\n",
       "      <td>1.000000</td>\n",
       "      <td>20.900000</td>\n",
       "      <td>1.000000</td>\n",
       "      <td>259</td>\n",
       "      <td>124</td>\n",
       "      <td>1</td>\n",
       "      <td>75.500000</td>\n",
       "      <td>0.000000</td>\n",
       "      <td>0.000000</td>\n",
       "      <td>0.000000</td>\n",
       "      <td>0.000000</td>\n",
       "      <td>3.612440</td>\n",
       "      <td>36.250000</td>\n",
       "      <td>0</td>\n",
       "    </tr>\n",
       "    <tr>\n",
       "      <th>268146</th>\n",
       "      <td>2023-12-31 09:59:03</td>\n",
       "      <td>2023-12-31 10:10:58</td>\n",
       "      <td>4.000000</td>\n",
       "      <td>3.100000</td>\n",
       "      <td>1.000000</td>\n",
       "      <td>170</td>\n",
       "      <td>239</td>\n",
       "      <td>1</td>\n",
       "      <td>15.600000</td>\n",
       "      <td>2.500000</td>\n",
       "      <td>4.900000</td>\n",
       "      <td>2.500000</td>\n",
       "      <td>0.000000</td>\n",
       "      <td>5.032258</td>\n",
       "      <td>11.916667</td>\n",
       "      <td>0.31</td>\n",
       "    </tr>\n",
       "    <tr>\n",
       "      <th>268147</th>\n",
       "      <td>2023-12-31 09:48:55</td>\n",
       "      <td>2023-12-31 09:56:42</td>\n",
       "      <td>1.000000</td>\n",
       "      <td>1.600000</td>\n",
       "      <td>1.000000</td>\n",
       "      <td>163</td>\n",
       "      <td>236</td>\n",
       "      <td>1</td>\n",
       "      <td>10.000000</td>\n",
       "      <td>2.500000</td>\n",
       "      <td>3.500000</td>\n",
       "      <td>2.500000</td>\n",
       "      <td>0.000000</td>\n",
       "      <td>6.250000</td>\n",
       "      <td>7.783333</td>\n",
       "      <td>0.35</td>\n",
       "    </tr>\n",
       "    <tr>\n",
       "      <th>268148</th>\n",
       "      <td>2023-12-31 09:10:03</td>\n",
       "      <td>2023-12-31 09:52:12</td>\n",
       "      <td>1.000000</td>\n",
       "      <td>1.100000</td>\n",
       "      <td>1.000000</td>\n",
       "      <td>50</td>\n",
       "      <td>186</td>\n",
       "      <td>1</td>\n",
       "      <td>17.500000</td>\n",
       "      <td>0.000000</td>\n",
       "      <td>0.000000</td>\n",
       "      <td>0.000000</td>\n",
       "      <td>0.000000</td>\n",
       "      <td>15.909091</td>\n",
       "      <td>42.150000</td>\n",
       "      <td>0</td>\n",
       "    </tr>\n",
       "    <tr>\n",
       "      <th>268149</th>\n",
       "      <td>2023-12-31 09:59:15</td>\n",
       "      <td>2023-12-31 10:12:01</td>\n",
       "      <td>2.000000</td>\n",
       "      <td>6.180000</td>\n",
       "      <td>1.000000</td>\n",
       "      <td>162</td>\n",
       "      <td>261</td>\n",
       "      <td>1</td>\n",
       "      <td>26.100000</td>\n",
       "      <td>0.000000</td>\n",
       "      <td>6.020000</td>\n",
       "      <td>2.500000</td>\n",
       "      <td>0.000000</td>\n",
       "      <td>4.223301</td>\n",
       "      <td>12.766667</td>\n",
       "      <td>0.23</td>\n",
       "    </tr>\n",
       "  </tbody>\n",
       "</table>\n",
       "<p>268150 rows × 16 columns</p>\n",
       "</div>"
      ],
      "text/plain": [
       "       tpep_pickup_datetime tpep_dropoff_datetime  passenger_count  \\\n",
       "0       2023-01-01 00:23:23   2023-01-01 00:45:35         1.000000   \n",
       "1       2023-01-01 00:21:57   2023-01-01 00:32:21         1.000000   \n",
       "2       2023-01-01 00:55:12   2023-01-02 00:52:12         1.000000   \n",
       "3       2023-01-01 00:54:00   2023-01-01 01:27:00         1.000000   \n",
       "4       2023-01-01 00:12:09   2023-01-01 00:36:30         1.000000   \n",
       "...                     ...                   ...              ...   \n",
       "268145  2023-12-31 09:49:26   2023-12-31 10:25:41         1.000000   \n",
       "268146  2023-12-31 09:59:03   2023-12-31 10:10:58         4.000000   \n",
       "268147  2023-12-31 09:48:55   2023-12-31 09:56:42         1.000000   \n",
       "268148  2023-12-31 09:10:03   2023-12-31 09:52:12         1.000000   \n",
       "268149  2023-12-31 09:59:15   2023-12-31 10:12:01         2.000000   \n",
       "\n",
       "        trip_distance  RatecodeID  PULocationID  DOLocationID  payment_type  \\\n",
       "0            5.400000    1.000000           239           107             1   \n",
       "1            1.470000    1.000000           141           141             2   \n",
       "2            3.430000    1.000000           170           239             2   \n",
       "3            0.240000    1.000000           143           148             0   \n",
       "4            4.400000    1.000000           239            90             1   \n",
       "...               ...         ...           ...           ...           ...   \n",
       "268145      20.900000    1.000000           259           124             1   \n",
       "268146       3.100000    1.000000           170           239             1   \n",
       "268147       1.600000    1.000000           163           236             1   \n",
       "268148       1.100000    1.000000            50           186             1   \n",
       "268149       6.180000    1.000000           162           261             1   \n",
       "\n",
       "        fare_amount    extra  tip_amount  congestion_surcharge  airport_fee  \\\n",
       "0         25.400000 3.500000    7.550000              2.500000     0.000000   \n",
       "1         11.400000 1.000000    0.000000              2.500000     0.000000   \n",
       "2         21.200000 1.000000    0.000000              2.500000     0.000000   \n",
       "3         36.440000 0.000000    8.090000              2.500000     0.000000   \n",
       "4         25.400000 3.500000    6.050000              2.500000     0.000000   \n",
       "...             ...      ...         ...                   ...          ...   \n",
       "268145    75.500000 0.000000    0.000000              0.000000     0.000000   \n",
       "268146    15.600000 2.500000    4.900000              2.500000     0.000000   \n",
       "268147    10.000000 2.500000    3.500000              2.500000     0.000000   \n",
       "268148    17.500000 0.000000    0.000000              0.000000     0.000000   \n",
       "268149    26.100000 0.000000    6.020000              2.500000     0.000000   \n",
       "\n",
       "         avg_rate  trip_duration tip_percentage  \n",
       "0        4.703704      22.200000            0.3  \n",
       "1        7.755102      10.400000              0  \n",
       "2        6.180758    1437.000000              0  \n",
       "3      151.833333      33.000000           0.22  \n",
       "4        5.772727      24.350000           0.24  \n",
       "...           ...            ...            ...  \n",
       "268145   3.612440      36.250000              0  \n",
       "268146   5.032258      11.916667           0.31  \n",
       "268147   6.250000       7.783333           0.35  \n",
       "268148  15.909091      42.150000              0  \n",
       "268149   4.223301      12.766667           0.23  \n",
       "\n",
       "[268150 rows x 16 columns]"
      ]
     },
     "execution_count": 47,
     "metadata": {},
     "output_type": "execute_result"
    }
   ],
   "source": [
    "# To help us better locating the outliers, we'll create 3 additional columns avg_rate, trip_duration (in minutes), and tip_percentage\n",
    "cleaned_df = df.copy()\n",
    "cleaned_df['avg_rate'] = cleaned_df['fare_amount'] / cleaned_df['trip_distance']\n",
    "cleaned_df['trip_duration'] = cleaned_df['tpep_dropoff_datetime'] - cleaned_df['tpep_pickup_datetime']\n",
    "cleaned_df['trip_duration'] = cleaned_df['trip_duration'].dt.total_seconds() / 60\n",
    "cleaned_df['tip_percentage'] = cleaned_df['tip_amount'] / cleaned_df['fare_amount']\n",
    "cleaned_df['tip_percentage'] = cleaned_df['tip_percentage'].round(2).apply(lambda x: format(x, '.2f').rstrip('0').rstrip('.'))\n",
    "cleaned_df\n"
   ]
  },
  {
   "cell_type": "code",
   "execution_count": 50,
   "metadata": {},
   "outputs": [
    {
     "data": {
      "text/html": [
       "<div>\n",
       "<style scoped>\n",
       "    .dataframe tbody tr th:only-of-type {\n",
       "        vertical-align: middle;\n",
       "    }\n",
       "\n",
       "    .dataframe tbody tr th {\n",
       "        vertical-align: top;\n",
       "    }\n",
       "\n",
       "    .dataframe thead th {\n",
       "        text-align: right;\n",
       "    }\n",
       "</style>\n",
       "<table border=\"1\" class=\"dataframe\">\n",
       "  <thead>\n",
       "    <tr style=\"text-align: right;\">\n",
       "      <th></th>\n",
       "      <th>tpep_pickup_datetime</th>\n",
       "      <th>tpep_dropoff_datetime</th>\n",
       "      <th>passenger_count</th>\n",
       "      <th>trip_distance</th>\n",
       "      <th>RatecodeID</th>\n",
       "      <th>PULocationID</th>\n",
       "      <th>DOLocationID</th>\n",
       "      <th>payment_type</th>\n",
       "      <th>fare_amount</th>\n",
       "      <th>extra</th>\n",
       "      <th>tip_amount</th>\n",
       "      <th>congestion_surcharge</th>\n",
       "      <th>airport_fee</th>\n",
       "      <th>avg_rate</th>\n",
       "      <th>trip_duration</th>\n",
       "      <th>tip_percentage</th>\n",
       "    </tr>\n",
       "  </thead>\n",
       "  <tbody>\n",
       "    <tr>\n",
       "      <th>210505</th>\n",
       "      <td>2023-10-18 08:31:53</td>\n",
       "      <td>2023-10-20 17:45:01</td>\n",
       "      <td>1.000000</td>\n",
       "      <td>0.000000</td>\n",
       "      <td>1.000000</td>\n",
       "      <td>207</td>\n",
       "      <td>226</td>\n",
       "      <td>2</td>\n",
       "      <td>3.700000</td>\n",
       "      <td>0.000000</td>\n",
       "      <td>0.000000</td>\n",
       "      <td>0.000000</td>\n",
       "      <td>0.000000</td>\n",
       "      <td>inf</td>\n",
       "      <td>3433.133333</td>\n",
       "      <td>0</td>\n",
       "    </tr>\n",
       "    <tr>\n",
       "      <th>170343</th>\n",
       "      <td>2023-08-22 10:50:16</td>\n",
       "      <td>2023-08-23 17:07:38</td>\n",
       "      <td>1.000000</td>\n",
       "      <td>0.000000</td>\n",
       "      <td>1.000000</td>\n",
       "      <td>207</td>\n",
       "      <td>41</td>\n",
       "      <td>2</td>\n",
       "      <td>14.200000</td>\n",
       "      <td>0.000000</td>\n",
       "      <td>0.000000</td>\n",
       "      <td>0.000000</td>\n",
       "      <td>0.000000</td>\n",
       "      <td>inf</td>\n",
       "      <td>1817.366667</td>\n",
       "      <td>0</td>\n",
       "    </tr>\n",
       "    <tr>\n",
       "      <th>85066</th>\n",
       "      <td>2023-04-26 17:03:17</td>\n",
       "      <td>2023-04-26 20:59:06</td>\n",
       "      <td>1.000000</td>\n",
       "      <td>0.000000</td>\n",
       "      <td>1.000000</td>\n",
       "      <td>193</td>\n",
       "      <td>193</td>\n",
       "      <td>3</td>\n",
       "      <td>3.000000</td>\n",
       "      <td>6.000000</td>\n",
       "      <td>0.000000</td>\n",
       "      <td>0.000000</td>\n",
       "      <td>1.750000</td>\n",
       "      <td>inf</td>\n",
       "      <td>235.816667</td>\n",
       "      <td>0</td>\n",
       "    </tr>\n",
       "    <tr>\n",
       "      <th>90939</th>\n",
       "      <td>2023-05-03 07:05:56</td>\n",
       "      <td>2023-05-03 09:05:07</td>\n",
       "      <td>1.000000</td>\n",
       "      <td>0.000000</td>\n",
       "      <td>1.000000</td>\n",
       "      <td>117</td>\n",
       "      <td>140</td>\n",
       "      <td>1</td>\n",
       "      <td>65.500000</td>\n",
       "      <td>0.000000</td>\n",
       "      <td>0.000000</td>\n",
       "      <td>0.000000</td>\n",
       "      <td>0.000000</td>\n",
       "      <td>inf</td>\n",
       "      <td>119.183333</td>\n",
       "      <td>0</td>\n",
       "    </tr>\n",
       "    <tr>\n",
       "      <th>97806</th>\n",
       "      <td>2023-05-12 13:42:11</td>\n",
       "      <td>2023-05-12 15:34:25</td>\n",
       "      <td>1.000000</td>\n",
       "      <td>0.000000</td>\n",
       "      <td>1.000000</td>\n",
       "      <td>244</td>\n",
       "      <td>123</td>\n",
       "      <td>1</td>\n",
       "      <td>62.500000</td>\n",
       "      <td>0.000000</td>\n",
       "      <td>0.000000</td>\n",
       "      <td>0.000000</td>\n",
       "      <td>0.000000</td>\n",
       "      <td>inf</td>\n",
       "      <td>112.233333</td>\n",
       "      <td>0</td>\n",
       "    </tr>\n",
       "    <tr>\n",
       "      <th>103524</th>\n",
       "      <td>2023-05-18 08:05:59</td>\n",
       "      <td>2023-05-18 09:54:13</td>\n",
       "      <td>1.000000</td>\n",
       "      <td>0.000000</td>\n",
       "      <td>1.000000</td>\n",
       "      <td>117</td>\n",
       "      <td>141</td>\n",
       "      <td>1</td>\n",
       "      <td>54.500000</td>\n",
       "      <td>0.000000</td>\n",
       "      <td>0.000000</td>\n",
       "      <td>0.000000</td>\n",
       "      <td>0.000000</td>\n",
       "      <td>inf</td>\n",
       "      <td>108.233333</td>\n",
       "      <td>0</td>\n",
       "    </tr>\n",
       "    <tr>\n",
       "      <th>187328</th>\n",
       "      <td>2023-09-15 17:19:20</td>\n",
       "      <td>2023-09-15 19:05:38</td>\n",
       "      <td>1.000000</td>\n",
       "      <td>0.000000</td>\n",
       "      <td>1.000000</td>\n",
       "      <td>246</td>\n",
       "      <td>3</td>\n",
       "      <td>1</td>\n",
       "      <td>44.500000</td>\n",
       "      <td>0.000000</td>\n",
       "      <td>0.000000</td>\n",
       "      <td>0.000000</td>\n",
       "      <td>0.000000</td>\n",
       "      <td>inf</td>\n",
       "      <td>106.300000</td>\n",
       "      <td>0</td>\n",
       "    </tr>\n",
       "    <tr>\n",
       "      <th>260832</th>\n",
       "      <td>2023-12-19 22:07:49</td>\n",
       "      <td>2023-12-19 23:51:40</td>\n",
       "      <td>1.000000</td>\n",
       "      <td>0.000000</td>\n",
       "      <td>1.000000</td>\n",
       "      <td>163</td>\n",
       "      <td>161</td>\n",
       "      <td>0</td>\n",
       "      <td>15.040000</td>\n",
       "      <td>0.000000</td>\n",
       "      <td>0.000000</td>\n",
       "      <td>2.500000</td>\n",
       "      <td>0.000000</td>\n",
       "      <td>inf</td>\n",
       "      <td>103.850000</td>\n",
       "      <td>0</td>\n",
       "    </tr>\n",
       "    <tr>\n",
       "      <th>125676</th>\n",
       "      <td>2023-06-16 15:51:14</td>\n",
       "      <td>2023-06-16 17:34:11</td>\n",
       "      <td>1.000000</td>\n",
       "      <td>0.000000</td>\n",
       "      <td>1.000000</td>\n",
       "      <td>4</td>\n",
       "      <td>117</td>\n",
       "      <td>1</td>\n",
       "      <td>70.500000</td>\n",
       "      <td>0.000000</td>\n",
       "      <td>0.000000</td>\n",
       "      <td>0.000000</td>\n",
       "      <td>0.000000</td>\n",
       "      <td>inf</td>\n",
       "      <td>102.950000</td>\n",
       "      <td>0</td>\n",
       "    </tr>\n",
       "    <tr>\n",
       "      <th>221009</th>\n",
       "      <td>2023-10-31 04:53:23</td>\n",
       "      <td>2023-10-31 06:29:52</td>\n",
       "      <td>1.000000</td>\n",
       "      <td>0.000000</td>\n",
       "      <td>1.000000</td>\n",
       "      <td>170</td>\n",
       "      <td>132</td>\n",
       "      <td>0</td>\n",
       "      <td>70.000000</td>\n",
       "      <td>1.000000</td>\n",
       "      <td>0.000000</td>\n",
       "      <td>2.500000</td>\n",
       "      <td>0.000000</td>\n",
       "      <td>inf</td>\n",
       "      <td>96.483333</td>\n",
       "      <td>0</td>\n",
       "    </tr>\n",
       "  </tbody>\n",
       "</table>\n",
       "</div>"
      ],
      "text/plain": [
       "       tpep_pickup_datetime tpep_dropoff_datetime  passenger_count  \\\n",
       "210505  2023-10-18 08:31:53   2023-10-20 17:45:01         1.000000   \n",
       "170343  2023-08-22 10:50:16   2023-08-23 17:07:38         1.000000   \n",
       "85066   2023-04-26 17:03:17   2023-04-26 20:59:06         1.000000   \n",
       "90939   2023-05-03 07:05:56   2023-05-03 09:05:07         1.000000   \n",
       "97806   2023-05-12 13:42:11   2023-05-12 15:34:25         1.000000   \n",
       "103524  2023-05-18 08:05:59   2023-05-18 09:54:13         1.000000   \n",
       "187328  2023-09-15 17:19:20   2023-09-15 19:05:38         1.000000   \n",
       "260832  2023-12-19 22:07:49   2023-12-19 23:51:40         1.000000   \n",
       "125676  2023-06-16 15:51:14   2023-06-16 17:34:11         1.000000   \n",
       "221009  2023-10-31 04:53:23   2023-10-31 06:29:52         1.000000   \n",
       "\n",
       "        trip_distance  RatecodeID  PULocationID  DOLocationID  payment_type  \\\n",
       "210505       0.000000    1.000000           207           226             2   \n",
       "170343       0.000000    1.000000           207            41             2   \n",
       "85066        0.000000    1.000000           193           193             3   \n",
       "90939        0.000000    1.000000           117           140             1   \n",
       "97806        0.000000    1.000000           244           123             1   \n",
       "103524       0.000000    1.000000           117           141             1   \n",
       "187328       0.000000    1.000000           246             3             1   \n",
       "260832       0.000000    1.000000           163           161             0   \n",
       "125676       0.000000    1.000000             4           117             1   \n",
       "221009       0.000000    1.000000           170           132             0   \n",
       "\n",
       "        fare_amount    extra  tip_amount  congestion_surcharge  airport_fee  \\\n",
       "210505     3.700000 0.000000    0.000000              0.000000     0.000000   \n",
       "170343    14.200000 0.000000    0.000000              0.000000     0.000000   \n",
       "85066      3.000000 6.000000    0.000000              0.000000     1.750000   \n",
       "90939     65.500000 0.000000    0.000000              0.000000     0.000000   \n",
       "97806     62.500000 0.000000    0.000000              0.000000     0.000000   \n",
       "103524    54.500000 0.000000    0.000000              0.000000     0.000000   \n",
       "187328    44.500000 0.000000    0.000000              0.000000     0.000000   \n",
       "260832    15.040000 0.000000    0.000000              2.500000     0.000000   \n",
       "125676    70.500000 0.000000    0.000000              0.000000     0.000000   \n",
       "221009    70.000000 1.000000    0.000000              2.500000     0.000000   \n",
       "\n",
       "        avg_rate  trip_duration tip_percentage  \n",
       "210505       inf    3433.133333              0  \n",
       "170343       inf    1817.366667              0  \n",
       "85066        inf     235.816667              0  \n",
       "90939        inf     119.183333              0  \n",
       "97806        inf     112.233333              0  \n",
       "103524       inf     108.233333              0  \n",
       "187328       inf     106.300000              0  \n",
       "260832       inf     103.850000              0  \n",
       "125676       inf     102.950000              0  \n",
       "221009       inf      96.483333              0  "
      ]
     },
     "execution_count": 50,
     "metadata": {},
     "output_type": "execute_result"
    }
   ],
   "source": [
    "high_rate = cleaned_df.sort_values(['avg_rate', 'trip_duration', 'tip_percentage'], ascending=False)\n",
    "# We can see a lot of abnormal data (trips that take )\n",
    "high_rate.head(10)"
   ]
  },
  {
   "cell_type": "code",
   "execution_count": 28,
   "metadata": {},
   "outputs": [
    {
     "data": {
      "text/plain": [
       "avg_rate\n",
       "inf           5460\n",
       "10.000000     1456\n",
       "8.000000      1289\n",
       "9.000000       957\n",
       "9.285714       870\n",
       "              ... \n",
       "218.250000       1\n",
       "4.422922         1\n",
       "5.130628         1\n",
       "3.869140         1\n",
       "3.612440         1\n",
       "Name: count, Length: 35180, dtype: int64"
      ]
     },
     "execution_count": 28,
     "metadata": {},
     "output_type": "execute_result"
    }
   ],
   "source": [
    "cleaned_df['avg_rate'].value_counts()"
   ]
  },
  {
   "cell_type": "markdown",
   "metadata": {
    "id": "4XDuLkufyJ2g"
   },
   "source": [
    "**2.3.1**  <font color = red>[10 marks]</font> <br>\n",
    "Based on the above analysis, it seems that some of the outliers are present due to errors in registering the trips. Fix the outliers.\n",
    "\n",
    "Some points you can look for:\n",
    "- Entries where `trip_distance` is nearly 0 and `fare_amount` is more than 300\n",
    "- Entries where `trip_distance` and `fare_amount` are 0 but the pickup and dropoff zones are different (both distance and fare should not be zero for different zones)\n",
    "- Entries where `trip_distance` is more than 250  miles.\n",
    "- Entries where `payment_type` is 0 (there is no payment_type 0 defined in the data dictionary)\n",
    "\n",
    "These are just some suggestions. You can handle outliers in any way you wish, using the insights from above outlier analysis."
   ]
  },
  {
   "cell_type": "markdown",
   "metadata": {
    "id": "u-YNHI8tea9c"
   },
   "source": [
    "How will you fix each of these values? Which ones will you drop and which ones will you replace?"
   ]
  },
  {
   "cell_type": "markdown",
   "metadata": {
    "id": "Ap4IfwXO4yZe"
   },
   "source": [
    "First, let us remove 7+ passenger counts as there are very less instances."
   ]
  },
  {
   "cell_type": "code",
   "execution_count": 29,
   "metadata": {
    "id": "XfsOFY5y9-fA"
   },
   "outputs": [
    {
     "data": {
      "text/html": [
       "<div>\n",
       "<style scoped>\n",
       "    .dataframe tbody tr th:only-of-type {\n",
       "        vertical-align: middle;\n",
       "    }\n",
       "\n",
       "    .dataframe tbody tr th {\n",
       "        vertical-align: top;\n",
       "    }\n",
       "\n",
       "    .dataframe thead th {\n",
       "        text-align: right;\n",
       "    }\n",
       "</style>\n",
       "<table border=\"1\" class=\"dataframe\">\n",
       "  <thead>\n",
       "    <tr style=\"text-align: right;\">\n",
       "      <th></th>\n",
       "      <th>tpep_pickup_datetime</th>\n",
       "      <th>tpep_dropoff_datetime</th>\n",
       "      <th>passenger_count</th>\n",
       "      <th>trip_distance</th>\n",
       "      <th>RatecodeID</th>\n",
       "      <th>PULocationID</th>\n",
       "      <th>DOLocationID</th>\n",
       "      <th>payment_type</th>\n",
       "      <th>fare_amount</th>\n",
       "      <th>extra</th>\n",
       "      <th>tip_amount</th>\n",
       "      <th>congestion_surcharge</th>\n",
       "      <th>airport_fee</th>\n",
       "    </tr>\n",
       "  </thead>\n",
       "  <tbody>\n",
       "    <tr>\n",
       "      <th>count</th>\n",
       "      <td>268148</td>\n",
       "      <td>268148</td>\n",
       "      <td>268148.000000</td>\n",
       "      <td>268148.000000</td>\n",
       "      <td>268148.000000</td>\n",
       "      <td>268148.000000</td>\n",
       "      <td>268148.000000</td>\n",
       "      <td>268148.000000</td>\n",
       "      <td>268148.000000</td>\n",
       "      <td>268148.000000</td>\n",
       "      <td>268148.000000</td>\n",
       "      <td>268148.000000</td>\n",
       "      <td>268148.000000</td>\n",
       "    </tr>\n",
       "    <tr>\n",
       "      <th>mean</th>\n",
       "      <td>2023-07-02 23:13:24.355337</td>\n",
       "      <td>2023-07-02 23:30:51.185927</td>\n",
       "      <td>1.368058</td>\n",
       "      <td>4.760160</td>\n",
       "      <td>1.074310</td>\n",
       "      <td>165.014033</td>\n",
       "      <td>163.826316</td>\n",
       "      <td>1.185114</td>\n",
       "      <td>19.897056</td>\n",
       "      <td>1.576328</td>\n",
       "      <td>3.514361</td>\n",
       "      <td>2.310006</td>\n",
       "      <td>0.138966</td>\n",
       "    </tr>\n",
       "    <tr>\n",
       "      <th>min</th>\n",
       "      <td>2023-01-01 00:05:35</td>\n",
       "      <td>2023-01-01 00:13:29</td>\n",
       "      <td>1.000000</td>\n",
       "      <td>0.000000</td>\n",
       "      <td>1.000000</td>\n",
       "      <td>1.000000</td>\n",
       "      <td>1.000000</td>\n",
       "      <td>0.000000</td>\n",
       "      <td>0.000000</td>\n",
       "      <td>0.000000</td>\n",
       "      <td>0.000000</td>\n",
       "      <td>0.000000</td>\n",
       "      <td>0.000000</td>\n",
       "    </tr>\n",
       "    <tr>\n",
       "      <th>25%</th>\n",
       "      <td>2023-04-02 18:22:25</td>\n",
       "      <td>2023-04-02 18:36:54</td>\n",
       "      <td>1.000000</td>\n",
       "      <td>1.040000</td>\n",
       "      <td>1.000000</td>\n",
       "      <td>132.000000</td>\n",
       "      <td>113.000000</td>\n",
       "      <td>1.000000</td>\n",
       "      <td>9.300000</td>\n",
       "      <td>0.000000</td>\n",
       "      <td>1.000000</td>\n",
       "      <td>2.500000</td>\n",
       "      <td>0.000000</td>\n",
       "    </tr>\n",
       "    <tr>\n",
       "      <th>50%</th>\n",
       "      <td>2023-06-27 19:10:35.500000</td>\n",
       "      <td>2023-06-27 19:24:19.500000</td>\n",
       "      <td>1.000000</td>\n",
       "      <td>1.800000</td>\n",
       "      <td>1.000000</td>\n",
       "      <td>162.000000</td>\n",
       "      <td>162.000000</td>\n",
       "      <td>1.000000</td>\n",
       "      <td>13.500000</td>\n",
       "      <td>1.000000</td>\n",
       "      <td>2.800000</td>\n",
       "      <td>2.500000</td>\n",
       "      <td>0.000000</td>\n",
       "    </tr>\n",
       "    <tr>\n",
       "      <th>75%</th>\n",
       "      <td>2023-10-06 21:59:46</td>\n",
       "      <td>2023-10-06 22:15:48</td>\n",
       "      <td>1.000000</td>\n",
       "      <td>3.410000</td>\n",
       "      <td>1.000000</td>\n",
       "      <td>233.000000</td>\n",
       "      <td>234.000000</td>\n",
       "      <td>1.000000</td>\n",
       "      <td>22.500000</td>\n",
       "      <td>2.500000</td>\n",
       "      <td>4.400000</td>\n",
       "      <td>2.500000</td>\n",
       "      <td>0.000000</td>\n",
       "    </tr>\n",
       "    <tr>\n",
       "      <th>max</th>\n",
       "      <td>2023-12-31 23:51:33</td>\n",
       "      <td>2024-01-01 00:37:09</td>\n",
       "      <td>6.000000</td>\n",
       "      <td>186514.090000</td>\n",
       "      <td>5.000000</td>\n",
       "      <td>265.000000</td>\n",
       "      <td>265.000000</td>\n",
       "      <td>4.000000</td>\n",
       "      <td>740.800000</td>\n",
       "      <td>14.250000</td>\n",
       "      <td>482.900000</td>\n",
       "      <td>2.500000</td>\n",
       "      <td>1.750000</td>\n",
       "    </tr>\n",
       "    <tr>\n",
       "      <th>std</th>\n",
       "      <td>NaN</td>\n",
       "      <td>NaN</td>\n",
       "      <td>0.855420</td>\n",
       "      <td>389.932935</td>\n",
       "      <td>0.398018</td>\n",
       "      <td>63.947579</td>\n",
       "      <td>69.873696</td>\n",
       "      <td>0.556635</td>\n",
       "      <td>18.395804</td>\n",
       "      <td>1.824858</td>\n",
       "      <td>4.171238</td>\n",
       "      <td>0.662483</td>\n",
       "      <td>0.458906</td>\n",
       "    </tr>\n",
       "  </tbody>\n",
       "</table>\n",
       "</div>"
      ],
      "text/plain": [
       "             tpep_pickup_datetime       tpep_dropoff_datetime  \\\n",
       "count                      268148                      268148   \n",
       "mean   2023-07-02 23:13:24.355337  2023-07-02 23:30:51.185927   \n",
       "min           2023-01-01 00:05:35         2023-01-01 00:13:29   \n",
       "25%           2023-04-02 18:22:25         2023-04-02 18:36:54   \n",
       "50%    2023-06-27 19:10:35.500000  2023-06-27 19:24:19.500000   \n",
       "75%           2023-10-06 21:59:46         2023-10-06 22:15:48   \n",
       "max           2023-12-31 23:51:33         2024-01-01 00:37:09   \n",
       "std                           NaN                         NaN   \n",
       "\n",
       "       passenger_count  trip_distance    RatecodeID  PULocationID  \\\n",
       "count    268148.000000  268148.000000 268148.000000 268148.000000   \n",
       "mean          1.368058       4.760160      1.074310    165.014033   \n",
       "min           1.000000       0.000000      1.000000      1.000000   \n",
       "25%           1.000000       1.040000      1.000000    132.000000   \n",
       "50%           1.000000       1.800000      1.000000    162.000000   \n",
       "75%           1.000000       3.410000      1.000000    233.000000   \n",
       "max           6.000000  186514.090000      5.000000    265.000000   \n",
       "std           0.855420     389.932935      0.398018     63.947579   \n",
       "\n",
       "       DOLocationID  payment_type   fare_amount         extra    tip_amount  \\\n",
       "count 268148.000000 268148.000000 268148.000000 268148.000000 268148.000000   \n",
       "mean     163.826316      1.185114     19.897056      1.576328      3.514361   \n",
       "min        1.000000      0.000000      0.000000      0.000000      0.000000   \n",
       "25%      113.000000      1.000000      9.300000      0.000000      1.000000   \n",
       "50%      162.000000      1.000000     13.500000      1.000000      2.800000   \n",
       "75%      234.000000      1.000000     22.500000      2.500000      4.400000   \n",
       "max      265.000000      4.000000    740.800000     14.250000    482.900000   \n",
       "std       69.873696      0.556635     18.395804      1.824858      4.171238   \n",
       "\n",
       "       congestion_surcharge   airport_fee  \n",
       "count         268148.000000 268148.000000  \n",
       "mean               2.310006      0.138966  \n",
       "min                0.000000      0.000000  \n",
       "25%                2.500000      0.000000  \n",
       "50%                2.500000      0.000000  \n",
       "75%                2.500000      0.000000  \n",
       "max                2.500000      1.750000  \n",
       "std                0.662483      0.458906  "
      ]
     },
     "execution_count": 29,
     "metadata": {},
     "output_type": "execute_result"
    }
   ],
   "source": [
    "# remove passenger_count > 6\n",
    "cleaned_df = df.loc[df['passenger_count'] <= 6]\n",
    "cleaned_df.describe()"
   ]
  },
  {
   "cell_type": "code",
   "execution_count": 30,
   "metadata": {
    "id": "PuzQXfuT8YKV"
   },
   "outputs": [],
   "source": [
    "# Do any columns need standardising?\n",
    "\n",
    "# Payment type 0 is now included in the dictionary, so no transformation is needed"
   ]
  },
  {
   "cell_type": "markdown",
   "metadata": {
    "id": "gPpJyFFNffcL"
   },
   "source": [
    "## **3** Exploratory Data Analysis\n",
    "<font color = red>[90 marks]</font> <br>"
   ]
  },
  {
   "cell_type": "code",
   "execution_count": 31,
   "metadata": {
    "id": "cl-0PcYTfkqh"
   },
   "outputs": [
    {
     "data": {
      "text/plain": [
       "['tpep_pickup_datetime',\n",
       " 'tpep_dropoff_datetime',\n",
       " 'passenger_count',\n",
       " 'trip_distance',\n",
       " 'RatecodeID',\n",
       " 'PULocationID',\n",
       " 'DOLocationID',\n",
       " 'payment_type',\n",
       " 'fare_amount',\n",
       " 'extra',\n",
       " 'tip_amount',\n",
       " 'congestion_surcharge',\n",
       " 'airport_fee']"
      ]
     },
     "execution_count": 31,
     "metadata": {},
     "output_type": "execute_result"
    }
   ],
   "source": [
    "cleaned_df.columns.tolist()"
   ]
  },
  {
   "cell_type": "markdown",
   "metadata": {
    "id": "a4N3PvkSTwcN"
   },
   "source": [
    "#### **3.1** General EDA: Finding Patterns and Trends\n",
    "<font color = red>[40 marks]</font> <br>"
   ]
  },
  {
   "cell_type": "markdown",
   "metadata": {
    "id": "9hwonDfZTJO6"
   },
   "source": [
    "**3.1.1** <font color = red>[3 marks]</font> <br>\n",
    "Categorise the varaibles into Numerical or Categorical.\n",
    "* `VendorID`:\n",
    "* `tpep_pickup_datetime`:\n",
    "* `tpep_dropoff_datetime`:\n",
    "* `passenger_count`:\n",
    "* `trip_distance`:\n",
    "* `RatecodeID`:\n",
    "* `PULocationID`:\n",
    "* `DOLocationID`:\n",
    "* `payment_type`:\n",
    "* `pickup_hour`:\n",
    "* `trip_duration`:\n",
    "\n",
    "\n",
    "The following monetary parameters belong in the same category, is it categorical or numerical?\n",
    "\n",
    "\n",
    "* `fare_amount`\n",
    "* `extra`\n",
    "* `mta_tax`\n",
    "* `tip_amount`\n",
    "* `tolls_amount`\n",
    "* `improvement_surcharge`\n",
    "* `total_amount`\n",
    "* `congestion_surcharge`\n",
    "* `airport_fee`"
   ]
  },
  {
   "cell_type": "markdown",
   "metadata": {
    "id": "MbGMjArkiXjL"
   },
   "source": [
    "##### Temporal Analysis"
   ]
  },
  {
   "cell_type": "markdown",
   "metadata": {
    "id": "ZCCbmQ49s2qj"
   },
   "source": [
    "**3.1.2** <font color = red>[5 marks]</font> <br>\n",
    "Analyse the distribution of taxi pickups by hours, days of the week, and months."
   ]
  },
  {
   "cell_type": "code",
<<<<<<< Updated upstream
   "execution_count": 32,
=======
   "execution_count": 52,
>>>>>>> Stashed changes
   "metadata": {
    "id": "RwgWN_MWg0Au"
   },
   "outputs": [
    {
     "data": {
      "image/png": "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",
      "text/plain": [
       "<Figure size 640x480 with 1 Axes>"
      ]
     },
     "metadata": {},
     "output_type": "display_data"
    }
   ],
   "source": [
    "# Find and show the hourly trends in taxi pickups\n",
    "eda_df = cleaned_df.copy()\n",
    "eda_df['pickup_hour'] = eda_df['tpep_pickup_datetime'].dt.hour\n",
    "\n",
    "# To better categorize the hours within a day, we divide the hours into 4 bins\n",
    "bins = [0, 6, 12, 18, 24]\n",
    "labels = ['Early Morning', 'Morning', 'Afternoon', 'Evening']\n",
    "eda_df['pickup_bin'] = pd.cut(eda_df['pickup_hour'], bins=bins, labels=labels, right=False)\n",
    "\n",
    "# Visualize the hourly trends\n",
    "sns.histplot(data=eda_df, x='pickup_hour', hue='pickup_bin', bins=24)\n",
    "plt.title('Taxi Pickups by Hour')\n",
    "plt.show()\n"
   ]
  },
  {
   "cell_type": "code",
<<<<<<< Updated upstream
   "execution_count": 33,
=======
   "execution_count": null,
>>>>>>> Stashed changes
   "metadata": {
    "id": "R64b8zfkG5OK"
   },
   "outputs": [
    {
     "data": {
      "image/png": "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",
      "text/plain": [
       "<Figure size 640x480 with 1 Axes>"
      ]
     },
     "metadata": {},
     "output_type": "display_data"
    }
   ],
   "source": [
    "# Find and show the daily trends in taxi pickups (days of the week)\n",
    "\n",
    "days_order = ['Monday', 'Tuesday', 'Wednesday', 'Thursday', 'Friday', 'Saturday', 'Sunday']\n",
    "\n",
    "eda_df['pickup_weekday'] = eda_df['tpep_pickup_datetime'].dt.day_name()\n",
    "eda_df['pickup_weekday'] = pd.Categorical(eda_df['pickup_weekday'], categories=days_order, ordered=True)\n",
    "eda_df.loc[eda_df['pickup_weekday'].isin(['Saturday', 'Sunday']), 'pickup_weekend'] = 'Weekend'\n",
    "eda_df['pickup_weekend'] = eda_df['pickup_weekend'].fillna('Weekday')\n",
    "\n",
    "# Visualize the days of week pickup trends\n",
    "ax = sns.histplot(data=eda_df, x='pickup_weekday', bins=7, hue='pickup_weekend')\n",
    "ax.legend_.set_title(None)\n",
    "y_max = ax.get_ylim()[1]\n",
    "ax.set_ylim(0, y_max * 1.07)\n",
    "plt.xticks(rotation=45)\n",
    "plt.tight_layout()\n",
    "plt.title('Taxi Pickups by Days of Week')\n",
    "plt.show()\n"
   ]
  },
  {
   "cell_type": "code",
   "execution_count": 34,
   "metadata": {
    "id": "H7V-jmRQG5hJ"
   },
   "outputs": [],
   "source": [
    "# Show the monthly trends in pickups\n",
    "\n"
   ]
  },
  {
   "cell_type": "markdown",
   "metadata": {
    "id": "23IqsgNjHNpJ"
   },
   "source": [
    "##### Financial Analysis"
   ]
  },
  {
   "cell_type": "markdown",
   "metadata": {
    "id": "fRaO-3NqHSM6"
   },
   "source": [
    "Take a look at the financial parameters like `fare_amount`, `tip_amount`, `total_amount`, and also `trip_distance`. Do these contain zero/negative values?"
   ]
  },
  {
   "cell_type": "code",
   "execution_count": 35,
   "metadata": {
    "id": "Z7JUnPeRHRqF"
   },
   "outputs": [],
   "source": [
    "# Analyse the above parameters\n",
    "\n"
   ]
  },
  {
   "cell_type": "markdown",
   "metadata": {
    "id": "dbOS_-GDJTyv"
   },
   "source": [
    "Do you think it is beneficial to create a copy DataFrame leaving out the zero values from these?"
   ]
  },
  {
   "cell_type": "markdown",
   "metadata": {
    "id": "YDN14J63o9gV"
   },
   "source": [
    "**3.1.3** <font color = red>[2 marks]</font> <br>\n",
    "Filter out the zero values from the above columns.\n",
    "\n",
    "**Note:** The distance might be 0 in cases where pickup and drop is in the same zone. Do you think it is suitable to drop such cases of zero distance?"
   ]
  },
  {
   "cell_type": "code",
   "execution_count": 36,
   "metadata": {
    "id": "5mk7Yp41JqJd"
   },
   "outputs": [],
   "source": [
    "# Create a df with non zero entries for the selected parameters.\n",
    "\n"
   ]
  },
  {
   "cell_type": "markdown",
   "metadata": {
    "id": "kJcgwyrtKivH"
   },
   "source": [
    "**3.1.4** <font color = red>[3 marks]</font> <br>\n",
    "Analyse the monthly revenue (`total_amount`) trend"
   ]
  },
  {
   "cell_type": "code",
   "execution_count": 37,
   "metadata": {
    "id": "U_gl8rBD6ZH0"
   },
   "outputs": [],
   "source": [
    "# Group data by month and analyse monthly revenue\n",
    "\n"
   ]
  },
  {
   "cell_type": "markdown",
   "metadata": {
    "id": "3vQHosTZLalB"
   },
   "source": [
    "**3.1.5** <font color = red>[3 marks]</font> <br>\n",
    "Show the proportion of each quarter of the year in the revenue"
   ]
  },
  {
   "cell_type": "code",
   "execution_count": 38,
   "metadata": {
    "id": "foV9BpFbVTbu"
   },
   "outputs": [],
   "source": [
    "# Calculate proportion of each quarter\n",
    "\n"
   ]
  },
  {
   "cell_type": "markdown",
   "metadata": {
    "id": "JncXEPjBLyHp"
   },
   "source": [
    "**3.1.6** <font color = red>[3 marks]</font> <br>\n",
    "Visualise the relationship between `trip_distance` and `fare_amount`. Also find the correlation value for these two.\n",
    "\n",
    "**Hint:** You can leave out the trips with trip_distance = 0"
   ]
  },
  {
   "cell_type": "code",
   "execution_count": 39,
   "metadata": {
    "id": "-z8Fegh_P5At"
   },
   "outputs": [],
   "source": [
    "# Show how trip fare is affected by distance\n",
    "\n"
   ]
  },
  {
   "cell_type": "markdown",
   "metadata": {
    "id": "-OGNFTX4QdeS"
   },
   "source": [
    "**3.1.7** <font color = red>[5 marks]</font> <br>\n",
    "Find and visualise the correlation between:\n",
    "1. `fare_amount` and trip duration (pickup time to dropoff time)\n",
    "2. `fare_amount` and `passenger_count`\n",
    "3. `tip_amount` and `trip_distance`"
   ]
  },
  {
   "cell_type": "code",
   "execution_count": 40,
   "metadata": {
    "id": "EtSNqFw19TB3"
   },
   "outputs": [],
   "source": [
    "# Show relationship between fare and trip duration\n",
    "\n"
   ]
  },
  {
   "cell_type": "code",
   "execution_count": 41,
   "metadata": {
    "id": "oTrlXiBm9TB3"
   },
   "outputs": [],
   "source": [
    "# Show relationship between fare and number of passengers\n",
    "\n"
   ]
  },
  {
   "cell_type": "code",
   "execution_count": 42,
   "metadata": {
    "id": "Lph7rakc9TB3"
   },
   "outputs": [],
   "source": [
    "# Show relationship between tip and trip distance\n",
    "\n"
   ]
  },
  {
   "cell_type": "markdown",
   "metadata": {
    "id": "3EL5CU47QJ5u"
   },
   "source": [
    "**3.1.8** <font color = red>[3 marks]</font> <br>\n",
    "Analyse the distribution of different payment types (`payment_type`)"
   ]
  },
  {
   "cell_type": "code",
   "execution_count": 43,
   "metadata": {
    "id": "pknOiYLp9Wnd"
   },
   "outputs": [],
   "source": [
    "# Analyse the distribution of different payment types (payment_type).\n",
    "\n",
    "\n"
   ]
  },
  {
   "cell_type": "markdown",
   "metadata": {
    "id": "PxxbUmSZ9Wne"
   },
   "source": [
    "- 1= Credit card\n",
    "- 2= Cash\n",
    "- 3= No charge\n",
    "- 4= Dispute\n",
    "\n"
   ]
  },
  {
   "cell_type": "markdown",
   "metadata": {
    "id": "CVXxcSYHj9sh"
   },
   "source": [
    "##### Geographical Analysis"
   ]
  },
  {
   "cell_type": "markdown",
   "metadata": {
    "id": "tvBXuYW7kEyS"
   },
   "source": [
    "For this, you have to use the *taxi_zones.shp* file from the *taxi_zones* folder.\n",
    "\n",
    "There would be multiple files inside the folder (such as *.shx, .sbx, .sbn* etc). You do not need to import/read any of the files other than the shapefile, *taxi_zones.shp*.\n",
    "\n",
    "Do not change any folder structure - all the files need to be present inside the folder for it to work.\n",
    "\n",
    "The folder structure should look like this:\n",
    "```\n",
    "Taxi Zones\n",
    "|- taxi_zones.shp.xml\n",
    "|- taxi_zones.prj\n",
    "|- taxi_zones.sbn\n",
    "|- taxi_zones.shp\n",
    "|- taxi_zones.dbf\n",
    "|- taxi_zones.shx\n",
    "|- taxi_zones.sbx\n",
    "\n",
    " ```\n",
    "\n",
    " You only need to read the `taxi_zones.shp` file. The *shp* file will utilise the other files by itself."
   ]
  },
  {
   "cell_type": "markdown",
   "metadata": {
    "id": "hR8f8ypXUtxJ"
   },
   "source": [
    "We will use the *GeoPandas* library for geopgraphical analysis\n",
    "```\n",
    "import geopandas as gpd\n",
    "```\n",
    "\n",
    "More about geopandas and shapefiles: [About](https://geopandas.org/en/stable/about.html)\n",
    "\n",
    "\n",
    "Reading the shapefile is very similar to *Pandas*. Use `gpd.read_file()` function to load the data (*taxi_zones.shp*) as a GeoDataFrame. Documentation: [Reading and Writing Files](https://geopandas.org/en/stable/docs/user_guide/io.html)"
   ]
  },
  {
   "cell_type": "code",
   "execution_count": 44,
   "metadata": {
    "id": "FJ76QD9IXNz8"
   },
   "outputs": [],
   "source": [
    "# !pip install geopandas"
   ]
  },
  {
   "cell_type": "markdown",
   "metadata": {
    "id": "q_QpZLl_WU-b"
   },
   "source": [
    "**3.1.9** <font color = red>[2 marks]</font> <br>\n",
    "Load the shapefile and display it."
   ]
  },
  {
   "cell_type": "code",
   "execution_count": 45,
   "metadata": {
    "id": "hLyVd3TQkCdG"
   },
   "outputs": [
    {
     "ename": "SyntaxError",
     "evalue": "invalid syntax (91537633.py, line 5)",
     "output_type": "error",
     "traceback": [
      "\u001b[1;36m  Cell \u001b[1;32mIn[45], line 5\u001b[1;36m\u001b[0m\n\u001b[1;33m    zones = # read the .shp file using gpd\u001b[0m\n\u001b[1;37m            ^\u001b[0m\n\u001b[1;31mSyntaxError\u001b[0m\u001b[1;31m:\u001b[0m invalid syntax\n"
     ]
    }
   ],
   "source": [
    "# import geopandas as gpd\n",
    "\n",
    "\n",
    "# Read the shapefile using geopandas\n",
    "zones = # read the .shp file using gpd\n",
    "zones.head()"
   ]
  },
  {
   "cell_type": "markdown",
   "metadata": {
    "id": "8YXJMzRoWxeg"
   },
   "source": [
    "Now, if you look at the DataFrame created, you will see columns like: `OBJECTID`,`Shape_Leng`, `Shape_Area`, `zone`, `LocationID`, `borough`, `geometry`.\n",
    "<br><br>\n",
    "\n",
    "Now, the `locationID` here is also what we are using to mark pickup and drop zones in the trip records.\n",
    "\n",
    "The geometric parameters like shape length, shape area and geometry are used to plot the zones on a map.\n",
    "\n",
    "This can be easily done using the `plot()` method."
   ]
  },
  {
   "cell_type": "code",
   "execution_count": null,
   "metadata": {
    "id": "lTqdZChLYE6H"
   },
   "outputs": [],
   "source": [
    "# print(zones.info())\n",
    "# zones.plot()"
   ]
  },
  {
   "cell_type": "markdown",
   "metadata": {
    "id": "fBkWokLIY_BH"
   },
   "source": [
    "Now, you have to merge the trip records and zones data using the location IDs.\n",
    "\n"
   ]
  },
  {
   "cell_type": "markdown",
   "metadata": {
    "id": "YzUMLUjqaJLN"
   },
   "source": [
    "**3.1.10** <font color = red>[3 marks]</font> <br>\n",
    "Merge the zones data into trip data using the `locationID` and `PULocationID` columns."
   ]
  },
  {
   "cell_type": "code",
   "execution_count": null,
   "metadata": {
    "id": "A2L8hWMQaYkX"
   },
   "outputs": [],
   "source": [
    "# Merge zones and trip records using locationID and PULocationID\n",
    "\n"
   ]
  },
  {
   "cell_type": "markdown",
   "metadata": {
    "id": "9CYc36Weai5-"
   },
   "source": [
    "**3.1.11** <font color = red>[3 marks]</font> <br>\n",
    "Group data by location IDs to find the total number of trips per location ID"
   ]
  },
  {
   "cell_type": "code",
   "execution_count": null,
   "metadata": {
    "id": "XpTIaPSSbwZZ"
   },
   "outputs": [],
   "source": [
    "# Group data by location and calculate the number of trips\n",
    "\n"
   ]
  },
  {
   "cell_type": "markdown",
   "metadata": {
    "id": "As0dVJpdcK2_"
   },
   "source": [
    "**3.1.12** <font color = red>[2 marks]</font> <br>\n",
    "Now, use the grouped data to add number of trips to the GeoDataFrame.\n",
    "\n",
    "We will use this to plot a map of zones showing total trips per zone."
   ]
  },
  {
   "cell_type": "code",
   "execution_count": null,
   "metadata": {
    "id": "H9Sheg7vdZ6q"
   },
   "outputs": [],
   "source": [
    "# Merge trip counts back to the zones GeoDataFrame\n",
    "\n",
    "\n"
   ]
  },
  {
   "cell_type": "markdown",
   "metadata": {
    "id": "DsfomL6Od0_R"
   },
   "source": [
    "The next step is creating a color map (choropleth map) showing zones by the number of trips taken.\n",
    "\n",
    "Again, you can use the `zones.plot()` method for this. [Plot Method GPD](https://geopandas.org/en/stable/docs/reference/api/geopandas.GeoDataFrame.plot.html#geopandas.GeoDataFrame.plot)\n",
    "\n",
    "But first, you need to define the figure and axis for the plot.\n",
    "\n",
    "`fig, ax = plt.subplots(1, 1, figsize = (12, 10))`\n",
    "\n",
    "This function creates a figure (fig) and a single subplot (ax)\n",
    "\n",
    "---"
   ]
  },
  {
   "cell_type": "markdown",
   "metadata": {
    "id": "QgDcw8gUejVk"
   },
   "source": [
    "After setting up the figure and axis, we can proceed to plot the GeoDataFrame on this axis. This is done in the next step where we use the plot method of the GeoDataFrame.\n",
    "\n",
    "You can define the following parameters in the `zones.plot()` method:\n",
    "```\n",
    "column = '',\n",
    "ax = ax,\n",
    "legend = True,\n",
    "legend_kwds = {'label': \"label\", 'orientation': \"<horizontal/vertical>\"}\n",
    "```\n",
    "\n",
    "To display the plot, use `plt.show()`."
   ]
  },
  {
   "cell_type": "markdown",
   "metadata": {
    "id": "xFQmkJipfU1P"
   },
   "source": [
    "**3.1.13** <font color = red>[3 marks]</font> <br>\n",
    "Plot a color-coded map showing zone-wise trips"
   ]
  },
  {
   "cell_type": "code",
   "execution_count": null,
   "metadata": {
    "id": "i506kVTgefM5"
   },
   "outputs": [],
   "source": [
    "# Define figure and axis\n",
    "\n",
    "\n",
    "# Plot the map and display it\n",
    "\n"
   ]
  },
  {
   "cell_type": "code",
   "execution_count": null,
   "metadata": {
    "id": "gwDs7OaBSopP"
   },
   "outputs": [],
   "source": [
    "# can you try displaying the zones DF sorted by the number of trips?\n",
    "\n"
   ]
  },
  {
   "cell_type": "markdown",
   "metadata": {
    "id": "T1bE7-QbgSrZ"
   },
   "source": [
    "Here we have completed the temporal, financial and geographical analysis on the trip records.\n",
    "\n",
    "**Compile your findings from general analysis below:**"
   ]
  },
  {
   "cell_type": "markdown",
   "metadata": {
    "id": "7YiVFIX3gcL3"
   },
   "source": [
    "You can consider the following points:\n",
    "\n",
    "* Busiest hours, days and months\n",
    "* Trends in revenue collected\n",
    "* Trends in quarterly revenue\n",
    "* How fare depends on trip distance, trip duration and passenger counts\n",
    "* How tip amount depends on trip distance\n",
    "* Busiest zones\n"
   ]
  },
  {
   "cell_type": "markdown",
   "metadata": {
    "id": "Rv0oYLcbhOTU"
   },
   "source": [
    "#### **3.2** Detailed EDA: Insights and Strategies\n",
    "<font color = red>[50 marks]</font> <br>"
   ]
  },
  {
   "cell_type": "markdown",
   "metadata": {
    "id": "xWJk-CGihnU1"
   },
   "source": [
    "Having performed basic analyses for finding trends and patterns, we will now move on to some detailed analysis focussed on operational efficiency, pricing strategies, and customer experience."
   ]
  },
  {
   "cell_type": "markdown",
   "metadata": {
    "id": "XBY2Y4Jrz9IQ"
   },
   "source": [
    "##### Operational Efficiency"
   ]
  },
  {
   "cell_type": "markdown",
   "metadata": {
    "id": "BXU8Q3sGjGnE"
   },
   "source": [
    "Analyze variations by time of day and location to identify bottlenecks or inefficiencies in routes"
   ]
  },
  {
   "cell_type": "markdown",
   "metadata": {
    "id": "H97VPqVdq7Lz"
   },
   "source": [
    "**3.2.1** <font color = red>[3 marks]</font> <br>\n",
    "Identify slow routes by calculating the average time taken by cabs to get from one zone to another at different hours of the day."
   ]
  },
  {
   "cell_type": "markdown",
   "metadata": {
    "id": "NzTRZyw2q9IR"
   },
   "source": [
    "Speed on a route *X* for hour *Y* = (*distance of the route X / average trip duration for hour Y*)"
   ]
  },
  {
   "cell_type": "code",
   "execution_count": null,
   "metadata": {
    "id": "Ovf-1vIyhk7E"
   },
   "outputs": [],
   "source": [
    "# Find routes which have the slowest speeds at different times of the day\n",
    "\n"
   ]
  },
  {
   "cell_type": "markdown",
   "metadata": {
    "id": "NmRPbH3rm2Ub"
   },
   "source": [
    "How does identifying high-traffic, high-demand routes help us?"
   ]
  },
  {
   "cell_type": "markdown",
   "metadata": {
    "id": "7-w-OCB_nLmb"
   },
   "source": [
    "**3.2.2** <font color = red>[3 marks]</font> <br>\n",
    "Calculate the number of trips at each hour of the day and visualise them. Find the busiest hour and show the number of trips for that hour."
   ]
  },
  {
   "cell_type": "code",
   "execution_count": null,
   "metadata": {
    "id": "BEbRCT31nLUw"
   },
   "outputs": [],
   "source": [
    "# Visualise the number of trips per hour and find the busiest hour\n",
    "\n"
   ]
  },
  {
   "cell_type": "markdown",
   "metadata": {
    "id": "8FuSAA0zn3F4"
   },
   "source": [
    "Remember, we took a fraction of trips. To find the actual number, you have to scale the number up by the sampling ratio."
   ]
  },
  {
   "cell_type": "markdown",
   "metadata": {
    "id": "bapn075QrKaz"
   },
   "source": [
    "**3.2.3** <font color = red>[2 mark]</font> <br>\n",
    "Find the actual number of trips in the five busiest hours"
   ]
  },
  {
   "cell_type": "code",
   "execution_count": null,
   "metadata": {
    "id": "79Hy-YWOoapQ"
   },
   "outputs": [],
   "source": [
    "# Scale up the number of trips\n",
    "\n",
    "# Fill in the value of your sampling fraction and use that to scale up the numbers\n",
    "sample_fraction =\n",
    "\n"
   ]
  },
  {
   "cell_type": "markdown",
   "metadata": {
    "id": "74fhoLxEoaTP"
   },
   "source": [
    "**3.2.4** <font color = red>[3 marks]</font> <br>\n",
    "Compare hourly traffic pattern on weekdays. Also compare for weekend."
   ]
  },
  {
   "cell_type": "code",
   "execution_count": null,
   "metadata": {
    "id": "sYMmCQHwpFRY"
   },
   "outputs": [],
   "source": [
    "# Compare traffic trends for the week days and weekends\n",
    "\n"
   ]
  },
  {
   "cell_type": "markdown",
   "metadata": {
    "id": "tWeuAulNpSOL"
   },
   "source": [
    "What can you infer from the above patterns? How will finding busy and quiet hours for each day help us?"
   ]
  },
  {
   "cell_type": "markdown",
   "metadata": {
    "id": "-S90VG94rGUm"
   },
   "source": [
    "**3.2.5** <font color = red>[3 marks]</font> <br>\n",
    "Identify top 10 zones with high hourly pickups. Do the same for hourly dropoffs. Show pickup and dropoff trends in these zones."
   ]
  },
  {
   "cell_type": "code",
   "execution_count": null,
   "metadata": {
    "id": "-nJGifJFrslP"
   },
   "outputs": [],
   "source": [
    "# Find top 10 pickup and dropoff zones\n",
    "\n"
   ]
  },
  {
   "cell_type": "markdown",
   "metadata": {
    "id": "okkQ17VssMqP"
   },
   "source": [
    "**3.2.6** <font color = red>[3 marks]</font> <br>\n",
    "Find the ratio of pickups and dropoffs in each zone. Display the 10 highest (pickup/drop) and 10 lowest (pickup/drop) ratios."
   ]
  },
  {
   "cell_type": "code",
   "execution_count": null,
   "metadata": {
    "id": "Qbuc8y-KgeDR"
   },
   "outputs": [],
   "source": [
    "# Find the top 10 and bottom 10 pickup/dropoff ratios\n",
    "\n"
   ]
  },
  {
   "cell_type": "markdown",
   "metadata": {
    "id": "2j1ukv-rrxny"
   },
   "source": [
    "**3.2.7** <font color = red>[3 marks]</font> <br>\n",
    "Identify zones with high pickup and dropoff traffic during night hours (11PM to 5AM)"
   ]
  },
  {
   "cell_type": "code",
   "execution_count": null,
   "metadata": {
    "id": "ve65f0GltyE_"
   },
   "outputs": [],
   "source": [
    "# During night hours (11pm to 5am) find the top 10 pickup and dropoff zones\n",
    "# Note that the top zones should be of night hours and not the overall top zones\n",
    "\n"
   ]
  },
  {
   "cell_type": "markdown",
   "metadata": {
    "id": "OtPTHyhTNnNL"
   },
   "source": [
    "Now, let us find the revenue share for the night time hours and the day time hours. After this, we will move to deciding a pricing strategy.\n",
    "\n",
    "**3.2.8** <font color = red>[2 marks]</font> <br>\n",
    "Find the revenue share for nighttime and daytime hours."
   ]
  },
  {
   "cell_type": "code",
   "execution_count": null,
   "metadata": {
    "id": "0ohk4curNl3g"
   },
   "outputs": [],
   "source": [
    "# Filter for night hours (11 PM to 5 AM)\n",
    "\n"
   ]
  },
  {
   "cell_type": "markdown",
   "metadata": {
    "id": "nG77smP4tyWu"
   },
   "source": [
    "##### Pricing Strategy"
   ]
  },
  {
   "cell_type": "markdown",
   "metadata": {
    "id": "ciF6eThit5IH"
   },
   "source": [
    "**3.2.9** <font color = red>[2 marks]</font> <br>\n",
    "For the different passenger counts, find the average fare per mile per passenger.\n",
    "\n",
    "For instance, suppose the average fare per mile for trips with 3 passengers is 3 USD/mile, then the fare per mile per passenger will be 1 USD/mile."
   ]
  },
  {
   "cell_type": "code",
   "execution_count": null,
   "metadata": {
    "id": "AO7MIuXd9C16"
   },
   "outputs": [],
   "source": [
    "# Analyse the fare per mile per passenger for different passenger counts\n",
    "\n",
    "\n"
   ]
  },
  {
   "cell_type": "markdown",
   "metadata": {
    "id": "WZrN-cxR9DIb"
   },
   "source": [
    "**3.2.10** <font color = red>[3 marks]</font> <br>\n",
    "Find the average fare per mile by hours of the day and by days of the week"
   ]
  },
  {
   "cell_type": "code",
   "execution_count": null,
   "metadata": {
    "id": "hUzCJm2y9SOq"
   },
   "outputs": [],
   "source": [
    "# Compare the average fare per mile for different days and for different times of the day\n",
    "\n"
   ]
  },
  {
   "cell_type": "markdown",
   "metadata": {
    "id": "211WFkhHDUMG"
   },
   "source": [
    "**3.2.11** <font color = red>[3 marks]</font> <br>\n",
    "Analyse the average fare per mile for the different vendors for different hours of the day"
   ]
  },
  {
   "cell_type": "code",
   "execution_count": null,
   "metadata": {
    "id": "my3cGHL1DU04"
   },
   "outputs": [],
   "source": [
    "# Compare fare per mile for different vendors\n",
    "\n"
   ]
  },
  {
   "cell_type": "markdown",
   "metadata": {
    "id": "FH9YJdodtDk4"
   },
   "source": [
    "**3.2.12** <font color = red>[5 marks]</font> <br>\n",
    "Compare the fare rates of the different vendors in a tiered fashion. Analyse the average fare per mile for distances upto 2 miles. Analyse the fare per mile for distances from 2 to 5 miles. And then for distances more than 5 miles.\n"
   ]
  },
  {
   "cell_type": "code",
   "execution_count": null,
   "metadata": {
    "id": "TFRPgO7mgEeT"
   },
   "outputs": [],
   "source": [
    "# Defining distance tiers\n",
    "\n"
   ]
  },
  {
   "cell_type": "markdown",
   "metadata": {
    "id": "M2o6xY0Yh6Gv"
   },
   "source": [
    "##### Customer Experience and Other Factors"
   ]
  },
  {
   "cell_type": "markdown",
   "metadata": {
    "id": "VSneN-rCh6Gw"
   },
   "source": [
    "**3.2.13** <font color = red>[5 marks]</font> <br>\n",
    "Analyse average tip percentages based on trip distances, passenger counts and time of pickup. What factors lead to low tip percentages?"
   ]
  },
  {
   "cell_type": "code",
   "execution_count": null,
   "metadata": {
    "id": "LO5WazK8h6Gx"
   },
   "outputs": [],
   "source": [
    "#  Analyze tip percentages based on distances, passenger counts and pickup times\n",
    "\n"
   ]
  },
  {
   "cell_type": "markdown",
   "metadata": {
    "id": "wQAIQsrcLm6X"
   },
   "source": [
    "Additional analysis [optional]: Let's try comparing cases of low tips with cases of high tips to find out if we find a clear aspect that drives up the tipping behaviours"
   ]
  },
  {
   "cell_type": "code",
   "execution_count": null,
   "metadata": {
    "collapsed": true,
    "id": "QYoUed6Dn6YW"
   },
   "outputs": [],
   "source": [
    "# Compare trips with tip percentage < 10% to trips with tip percentage > 25%\n",
    "\n"
   ]
  },
  {
   "cell_type": "markdown",
   "metadata": {
    "id": "0UjvGTRKh6Gx"
   },
   "source": [
    "**3.2.14** <font color = red>[3 marks]</font> <br>\n",
    "Analyse the variation of passenger count across hours and days of the week."
   ]
  },
  {
   "cell_type": "code",
   "execution_count": null,
   "metadata": {
    "id": "rFP0DNRvh6Gx"
   },
   "outputs": [],
   "source": [
    "# See how passenger count varies across hours and days\n",
    "\n",
    "\n"
   ]
  },
  {
   "cell_type": "markdown",
   "metadata": {
    "id": "zWKLLlb7h6Gy"
   },
   "source": [
    "**3.2.15** <font color = red>[2 marks]</font> <br>\n",
    "Analyse the variation of passenger counts across zones"
   ]
  },
  {
   "cell_type": "code",
   "execution_count": null,
   "metadata": {
    "id": "30h27Uz2h6Gy"
   },
   "outputs": [],
   "source": [
    "# How does passenger count vary across zones\n",
    "\n"
   ]
  },
  {
   "cell_type": "code",
   "execution_count": null,
   "metadata": {
    "id": "C3I0AfOkvBWA"
   },
   "outputs": [],
   "source": [
    "# For a more detailed analysis, we can use the zones_with_trips GeoDataFrame\n",
    "# Create a new column for the average passenger count in each zone.\n",
    "\n"
   ]
  },
  {
   "cell_type": "markdown",
   "metadata": {
    "id": "rw0j5Z-1h6Gz"
   },
   "source": [
    "Find out how often surcharges/extra charges are applied to understand their prevalance"
   ]
  },
  {
   "cell_type": "markdown",
   "metadata": {
    "id": "x9IHjHFBx6Ye"
   },
   "source": [
    "**3.2.16** <font color = red>[5 marks]</font> <br>\n",
    "Analyse the pickup/dropoff zones or times when extra charges are applied more frequently"
   ]
  },
  {
   "cell_type": "code",
   "execution_count": null,
   "metadata": {
    "id": "nKbXwZJwh6Gz"
   },
   "outputs": [],
   "source": [
    "# How often is each surcharge applied?\n",
    "\n"
   ]
  },
  {
   "cell_type": "markdown",
   "metadata": {
    "id": "bkyc9q40Cts-"
   },
   "source": [
    "## **4** Conclusion\n",
    "<font color = red>[15 marks]</font> <br>"
   ]
  },
  {
   "cell_type": "markdown",
   "metadata": {
    "id": "Z5yCODI-C6yR"
   },
   "source": [
    "### **4.1** Final Insights and Recommendations\n",
    "<font color = red>[15 marks]</font> <br>\n",
    "\n",
    "Conclude your analyses here. Include all the outcomes you found based on the analysis.\n",
    "\n",
    "Based on the insights, frame a concluding story explaining suitable parameters such as location, time of the day, day of the week etc. to be kept in mind while devising a strategy to meet customer demand and optimise supply."
   ]
  },
  {
   "cell_type": "markdown",
   "metadata": {
    "id": "0dy8J-C8jJjk"
   },
   "source": [
    "**4.1.1** <font color = red>[5 marks]</font> <br>\n",
    "Recommendations to optimize routing and dispatching based on demand patterns and operational inefficiencies"
   ]
  },
  {
   "cell_type": "code",
   "execution_count": null,
   "metadata": {
    "id": "J03px17x_rD9"
   },
   "outputs": [],
   "source": []
  },
  {
   "cell_type": "markdown",
   "metadata": {
    "id": "AaLgTWxpjt7h"
   },
   "source": [
    "**4.1.2** <font color = red>[5 marks]</font> <br>\n",
    "\n",
    "Suggestions on strategically positioning cabs across different zones to make best use of insights uncovered by analysing trip trends across time, days and months."
   ]
  },
  {
   "cell_type": "code",
   "execution_count": null,
   "metadata": {
    "id": "c8ZbTIF7_rsN"
   },
   "outputs": [],
   "source": []
  },
  {
   "cell_type": "markdown",
   "metadata": {
    "id": "mUU4mn50jMZy"
   },
   "source": [
    "**4.1.3** <font color = red>[5 marks]</font> <br>\n",
    "Propose data-driven adjustments to the pricing strategy to maximize revenue while maintaining competitive rates with other vendors."
   ]
  },
  {
   "cell_type": "code",
   "execution_count": null,
   "metadata": {
    "id": "SXErHFjx_sGN"
   },
   "outputs": [],
   "source": []
  }
 ],
 "metadata": {
  "colab": {
   "collapsed_sections": [
    "-OVfUMlHFkZD",
    "0eaCZjHIvfuI",
    "Kw-WRzBfyS7j",
    "nM2X-s6lycvQ",
    "NgHgbPIepaYl",
    "QaOS3H9izZ0N",
    "HZvPSwJx0S3K",
    "x2hakCCy6wXI",
    "2jyQyYIpCztl",
    "gPpJyFFNffcL",
    "a4N3PvkSTwcN",
    "MbGMjArkiXjL",
    "23IqsgNjHNpJ",
    "CVXxcSYHj9sh",
    "Rv0oYLcbhOTU",
    "XBY2Y4Jrz9IQ",
    "nG77smP4tyWu",
    "M2o6xY0Yh6Gv",
    "bkyc9q40Cts-",
    "Z5yCODI-C6yR"
   ],
   "provenance": [
    {
     "file_id": "1PvYLECban8pmD-aFGV_yoRF2PyRwLntw",
     "timestamp": 1737110016234
    },
    {
     "file_id": "1jppXTxMvUcVsY27R_ckdE5DAnxrROUY1",
     "timestamp": 1732620370544
    }
   ],
   "toc_visible": true
  },
  "kernelspec": {
   "display_name": "Python 3",
   "language": "python",
   "name": "python3"
  },
  "language_info": {
   "codemirror_mode": {
    "name": "ipython",
    "version": 3
   },
   "file_extension": ".py",
   "mimetype": "text/x-python",
   "name": "python",
   "nbconvert_exporter": "python",
   "pygments_lexer": "ipython3",
   "version": "3.11.8"
  }
 },
 "nbformat": 4,
 "nbformat_minor": 0
}
